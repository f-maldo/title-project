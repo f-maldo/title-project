{
 "cells": [
  {
   "cell_type": "code",
   "execution_count": 1,
   "metadata": {},
   "outputs": [
    {
     "name": "stderr",
     "output_type": "stream",
     "text": [
      "/home/sagacius/.local/lib/python3.5/site-packages/h5py/__init__.py:36: FutureWarning: Conversion of the second argument of issubdtype from `float` to `np.floating` is deprecated. In future, it will be treated as `np.float64 == np.dtype(float).type`.\n",
      "  from ._conv import register_converters as _register_converters\n",
      "Using TensorFlow backend.\n"
     ]
    }
   ],
   "source": [
    "%matplotlib inline\n",
    "from keras.models import Sequential\n",
    "from keras.layers import Activation, Dense, Flatten, Conv2D, MaxPooling2D\n",
    "from tqdm import tqdm_notebook\n",
    "import numpy as np\n",
    "from livelossplot import PlotLossesKeras\n",
    "from skimage import io\n",
    "from keras import optimizers"
   ]
  },
  {
   "cell_type": "code",
   "execution_count": 2,
   "metadata": {},
   "outputs": [],
   "source": [
    "height = 1080\n",
    "width = 1920"
   ]
  },
  {
   "cell_type": "code",
   "execution_count": 3,
   "metadata": {},
   "outputs": [
    {
     "data": {
      "application/vnd.jupyter.widget-view+json": {
       "model_id": "b83c006716cb417498a5195598be8519",
       "version_major": 2,
       "version_minor": 0
      },
      "text/plain": [
       "HBox(children=(IntProgress(value=0, max=630), HTML(value='')))"
      ]
     },
     "metadata": {},
     "output_type": "display_data"
    },
    {
     "name": "stdout",
     "output_type": "stream",
     "text": [
      "\n",
      "[INFO] train matrix: 904.39MB\n",
      "(630, 350, 350, 3) (630, 4)\n"
     ]
    }
   ],
   "source": [
    "x_train = np.load(\"Cache/LPD/new/x_train.npy\")\n",
    "y_train = np.load(\"Cache/LPD/new/y_train.npy\")\n",
    "im_train = []\n",
    "for path in tqdm_notebook(x_train):\n",
    "    im = io.imread(path.split(\"../\")[1])\n",
    "    im_train.append(im)\n",
    "im_train = np.asarray(im_train, dtype=\"float32\") / 255.0\n",
    "print(\"[INFO] train matrix: {:.2f}MB\".format(im_train.nbytes / (1024 * 1000.0)))\n",
    "print(im_train.shape, y_train.shape)\n",
    "#io.imshow(im_train[0])"
   ]
  },
  {
   "cell_type": "code",
   "execution_count": 4,
   "metadata": {},
   "outputs": [
    {
     "name": "stdout",
     "output_type": "stream",
     "text": [
      "_________________________________________________________________\n",
      "Layer (type)                 Output Shape              Param #   \n",
      "=================================================================\n",
      "conv2d_1 (Conv2D)            (None, 348, 348, 32)      896       \n",
      "_________________________________________________________________\n",
      "activation_1 (Activation)    (None, 348, 348, 32)      0         \n",
      "_________________________________________________________________\n",
      "max_pooling2d_1 (MaxPooling2 (None, 174, 174, 32)      0         \n",
      "_________________________________________________________________\n",
      "conv2d_2 (Conv2D)            (None, 173, 173, 64)      8256      \n",
      "_________________________________________________________________\n",
      "activation_2 (Activation)    (None, 173, 173, 64)      0         \n",
      "_________________________________________________________________\n",
      "max_pooling2d_2 (MaxPooling2 (None, 86, 86, 64)        0         \n",
      "_________________________________________________________________\n",
      "conv2d_3 (Conv2D)            (None, 85, 85, 128)       32896     \n",
      "_________________________________________________________________\n",
      "activation_3 (Activation)    (None, 85, 85, 128)       0         \n",
      "_________________________________________________________________\n",
      "max_pooling2d_3 (MaxPooling2 (None, 42, 42, 128)       0         \n",
      "_________________________________________________________________\n",
      "flatten_1 (Flatten)          (None, 225792)            0         \n",
      "_________________________________________________________________\n",
      "dense_1 (Dense)              (None, 500)               112896500 \n",
      "_________________________________________________________________\n",
      "activation_4 (Activation)    (None, 500)               0         \n",
      "_________________________________________________________________\n",
      "dense_2 (Dense)              (None, 500)               250500    \n",
      "_________________________________________________________________\n",
      "activation_5 (Activation)    (None, 500)               0         \n",
      "_________________________________________________________________\n",
      "dense_3 (Dense)              (None, 4)                 2004      \n",
      "=================================================================\n",
      "Total params: 113,191,052\n",
      "Trainable params: 113,191,052\n",
      "Non-trainable params: 0\n",
      "_________________________________________________________________\n"
     ]
    }
   ],
   "source": [
    "model = Sequential()\n",
    "model.add(Conv2D(32,(3, 3), input_shape = (height, width, 3)))\n",
    "model.add(Activation('relu')) ## 96 - 3 + 2\n",
    "model.add(MaxPooling2D(pool_size = (2,2))) ## 96 - (3-1)*2\n",
    "\n",
    "model.add(Conv2D(64,(2,2)))\n",
    "model.add(Activation('relu')) ## \n",
    "model.add(MaxPooling2D(pool_size = (2,2)))\n",
    "\n",
    "model.add(Conv2D(128,(2,2)))\n",
    "model.add(Activation('relu'))\n",
    "model.add(MaxPooling2D(pool_size=(2,2)))\n",
    "\n",
    "model.add(Flatten())\n",
    "\n",
    "model.add(Dense(500))\n",
    "model.add(Activation('relu'))\n",
    "\n",
    "model.add(Dense(500))\n",
    "model.add(Activation('relu'))\n",
    "\n",
    "model.add(Dense(4))\n",
    "sgd = optimizers.SGD(lr=0.01,momentum = 0.9,nesterov=True)\n",
    "model.compile(loss=\"mean_squared_error\", optimizer=sgd, metrics=['accuracy'])\n",
    "model.summary()"
   ]
  },
  {
   "cell_type": "code",
   "execution_count": 5,
   "metadata": {},
   "outputs": [
    {
     "name": "stdout",
     "output_type": "stream",
     "text": [
      "Train on 504 samples, validate on 126 samples\n",
      "Epoch 1/30\n",
      "504/504 [==============================] - 6s 11ms/step - loss: nan - acc: 0.6964 - val_loss: nan - val_acc: 0.7540\n",
      "Epoch 2/30\n",
      "504/504 [==============================] - 3s 7ms/step - loss: nan - acc: 0.7560 - val_loss: nan - val_acc: 0.7540\n",
      "Epoch 3/30\n",
      "504/504 [==============================] - 3s 7ms/step - loss: nan - acc: 0.7560 - val_loss: nan - val_acc: 0.7540\n",
      "Epoch 4/30\n",
      "504/504 [==============================] - 3s 7ms/step - loss: nan - acc: 0.7560 - val_loss: nan - val_acc: 0.7540\n",
      "Epoch 5/30\n",
      "504/504 [==============================] - 3s 7ms/step - loss: nan - acc: 0.7560 - val_loss: nan - val_acc: 0.7540\n",
      "Epoch 6/30\n",
      "504/504 [==============================] - 3s 7ms/step - loss: nan - acc: 0.7560 - val_loss: nan - val_acc: 0.7540\n",
      "Epoch 7/30\n",
      "504/504 [==============================] - 4s 7ms/step - loss: nan - acc: 0.7560 - val_loss: nan - val_acc: 0.7540\n",
      "Epoch 8/30\n",
      "504/504 [==============================] - 4s 7ms/step - loss: nan - acc: 0.7560 - val_loss: nan - val_acc: 0.7540\n",
      "Epoch 9/30\n",
      "504/504 [==============================] - 4s 7ms/step - loss: nan - acc: 0.7560 - val_loss: nan - val_acc: 0.7540\n",
      "Epoch 10/30\n",
      "504/504 [==============================] - 4s 7ms/step - loss: nan - acc: 0.7560 - val_loss: nan - val_acc: 0.7540\n",
      "Epoch 11/30\n",
      "504/504 [==============================] - 4s 7ms/step - loss: nan - acc: 0.7560 - val_loss: nan - val_acc: 0.7540\n",
      "Epoch 12/30\n",
      "504/504 [==============================] - 4s 7ms/step - loss: nan - acc: 0.7560 - val_loss: nan - val_acc: 0.7540\n",
      "Epoch 13/30\n",
      "504/504 [==============================] - 4s 7ms/step - loss: nan - acc: 0.7560 - val_loss: nan - val_acc: 0.7540\n",
      "Epoch 14/30\n",
      "504/504 [==============================] - 4s 7ms/step - loss: nan - acc: 0.7560 - val_loss: nan - val_acc: 0.7540\n",
      "Epoch 15/30\n",
      "504/504 [==============================] - 4s 7ms/step - loss: nan - acc: 0.7560 - val_loss: nan - val_acc: 0.7540\n",
      "Epoch 16/30\n",
      "504/504 [==============================] - 4s 7ms/step - loss: nan - acc: 0.7560 - val_loss: nan - val_acc: 0.7540\n",
      "Epoch 17/30\n",
      "504/504 [==============================] - 4s 7ms/step - loss: nan - acc: 0.7560 - val_loss: nan - val_acc: 0.7540\n",
      "Epoch 18/30\n",
      "504/504 [==============================] - 4s 7ms/step - loss: nan - acc: 0.7560 - val_loss: nan - val_acc: 0.7540\n",
      "Epoch 19/30\n",
      "504/504 [==============================] - 4s 7ms/step - loss: nan - acc: 0.7560 - val_loss: nan - val_acc: 0.7540\n",
      "Epoch 20/30\n",
      "504/504 [==============================] - 4s 7ms/step - loss: nan - acc: 0.7560 - val_loss: nan - val_acc: 0.7540\n",
      "Epoch 21/30\n",
      "504/504 [==============================] - 4s 7ms/step - loss: nan - acc: 0.7560 - val_loss: nan - val_acc: 0.7540\n",
      "Epoch 22/30\n",
      "504/504 [==============================] - 4s 7ms/step - loss: nan - acc: 0.7560 - val_loss: nan - val_acc: 0.7540\n",
      "Epoch 23/30\n",
      "504/504 [==============================] - 4s 7ms/step - loss: nan - acc: 0.7560 - val_loss: nan - val_acc: 0.7540\n",
      "Epoch 24/30\n",
      "504/504 [==============================] - 4s 7ms/step - loss: nan - acc: 0.7560 - val_loss: nan - val_acc: 0.7540\n",
      "Epoch 25/30\n",
      "504/504 [==============================] - 4s 7ms/step - loss: nan - acc: 0.7560 - val_loss: nan - val_acc: 0.7540\n",
      "Epoch 26/30\n",
      "504/504 [==============================] - 4s 7ms/step - loss: nan - acc: 0.7560 - val_loss: nan - val_acc: 0.7540\n",
      "Epoch 27/30\n",
      "504/504 [==============================] - 4s 7ms/step - loss: nan - acc: 0.7560 - val_loss: nan - val_acc: 0.7540\n",
      "Epoch 28/30\n",
      "504/504 [==============================] - 4s 7ms/step - loss: nan - acc: 0.7560 - val_loss: nan - val_acc: 0.7540\n",
      "Epoch 29/30\n",
      "504/504 [==============================] - 4s 7ms/step - loss: nan - acc: 0.7560 - val_loss: nan - val_acc: 0.7540\n",
      "Epoch 30/30\n",
      "504/504 [==============================] - 4s 7ms/step - loss: nan - acc: 0.7560 - val_loss: nan - val_acc: 0.7540\n"
     ]
    }
   ],
   "source": [
    "epochs = 30\n",
    "history = model.fit(\n",
    "    im_train,\n",
    "    y_train,\n",
    "    validation_split=0.2,\n",
    "    shuffle=True,\n",
    "    epochs=epochs,\n",
    "    batch_size=20\n",
    ")"
   ]
  },
  {
   "cell_type": "code",
   "execution_count": 9,
   "metadata": {},
   "outputs": [
    {
     "data": {
      "application/vnd.jupyter.widget-view+json": {
       "model_id": "3b26c5794aa24128824798a1409894ab",
       "version_major": 2,
       "version_minor": 0
      },
      "text/plain": [
       "HBox(children=(IntProgress(value=0, max=180), HTML(value='')))"
      ]
     },
     "metadata": {},
     "output_type": "display_data"
    },
    {
     "name": "stdout",
     "output_type": "stream",
     "text": [
      "\n"
     ]
    },
    {
     "data": {
      "application/vnd.jupyter.widget-view+json": {
       "model_id": "7e9386c4697e494a9f55f594821f483d",
       "version_major": 2,
       "version_minor": 0
      },
      "text/plain": [
       "HBox(children=(IntProgress(value=0, max=180), HTML(value='')))"
      ]
     },
     "metadata": {},
     "output_type": "display_data"
    },
    {
     "name": "stdout",
     "output_type": "stream",
     "text": [
      "\n",
      "[array([[nan, nan, nan, nan]], dtype=float32), array([[nan, nan, nan, nan]], dtype=float32), array([[nan, nan, nan, nan]], dtype=float32), array([[nan, nan, nan, nan]], dtype=float32), array([[nan, nan, nan, nan]], dtype=float32), array([[nan, nan, nan, nan]], dtype=float32), array([[nan, nan, nan, nan]], dtype=float32), array([[nan, nan, nan, nan]], dtype=float32), array([[nan, nan, nan, nan]], dtype=float32), array([[nan, nan, nan, nan]], dtype=float32), array([[nan, nan, nan, nan]], dtype=float32), array([[nan, nan, nan, nan]], dtype=float32), array([[nan, nan, nan, nan]], dtype=float32), array([[nan, nan, nan, nan]], dtype=float32), array([[nan, nan, nan, nan]], dtype=float32), array([[nan, nan, nan, nan]], dtype=float32), array([[nan, nan, nan, nan]], dtype=float32), array([[nan, nan, nan, nan]], dtype=float32), array([[nan, nan, nan, nan]], dtype=float32), array([[nan, nan, nan, nan]], dtype=float32), array([[nan, nan, nan, nan]], dtype=float32), array([[nan, nan, nan, nan]], dtype=float32), array([[nan, nan, nan, nan]], dtype=float32), array([[nan, nan, nan, nan]], dtype=float32), array([[nan, nan, nan, nan]], dtype=float32), array([[nan, nan, nan, nan]], dtype=float32), array([[nan, nan, nan, nan]], dtype=float32), array([[nan, nan, nan, nan]], dtype=float32), array([[nan, nan, nan, nan]], dtype=float32), array([[nan, nan, nan, nan]], dtype=float32), array([[nan, nan, nan, nan]], dtype=float32), array([[nan, nan, nan, nan]], dtype=float32), array([[nan, nan, nan, nan]], dtype=float32), array([[nan, nan, nan, nan]], dtype=float32), array([[nan, nan, nan, nan]], dtype=float32), array([[nan, nan, nan, nan]], dtype=float32), array([[nan, nan, nan, nan]], dtype=float32), array([[nan, nan, nan, nan]], dtype=float32), array([[nan, nan, nan, nan]], dtype=float32), array([[nan, nan, nan, nan]], dtype=float32), array([[nan, nan, nan, nan]], dtype=float32), array([[nan, nan, nan, nan]], dtype=float32), array([[nan, nan, nan, nan]], dtype=float32), array([[nan, nan, nan, nan]], dtype=float32), array([[nan, nan, nan, nan]], dtype=float32), array([[nan, nan, nan, nan]], dtype=float32), array([[nan, nan, nan, nan]], dtype=float32), array([[nan, nan, nan, nan]], dtype=float32), array([[nan, nan, nan, nan]], dtype=float32), array([[nan, nan, nan, nan]], dtype=float32), array([[nan, nan, nan, nan]], dtype=float32), array([[nan, nan, nan, nan]], dtype=float32), array([[nan, nan, nan, nan]], dtype=float32), array([[nan, nan, nan, nan]], dtype=float32), array([[nan, nan, nan, nan]], dtype=float32), array([[nan, nan, nan, nan]], dtype=float32), array([[nan, nan, nan, nan]], dtype=float32), array([[nan, nan, nan, nan]], dtype=float32), array([[nan, nan, nan, nan]], dtype=float32), array([[nan, nan, nan, nan]], dtype=float32), array([[nan, nan, nan, nan]], dtype=float32), array([[nan, nan, nan, nan]], dtype=float32), array([[nan, nan, nan, nan]], dtype=float32), array([[nan, nan, nan, nan]], dtype=float32), array([[nan, nan, nan, nan]], dtype=float32), array([[nan, nan, nan, nan]], dtype=float32), array([[nan, nan, nan, nan]], dtype=float32), array([[nan, nan, nan, nan]], dtype=float32), array([[nan, nan, nan, nan]], dtype=float32), array([[nan, nan, nan, nan]], dtype=float32), array([[nan, nan, nan, nan]], dtype=float32), array([[nan, nan, nan, nan]], dtype=float32), array([[nan, nan, nan, nan]], dtype=float32), array([[nan, nan, nan, nan]], dtype=float32), array([[nan, nan, nan, nan]], dtype=float32), array([[nan, nan, nan, nan]], dtype=float32), array([[nan, nan, nan, nan]], dtype=float32), array([[nan, nan, nan, nan]], dtype=float32), array([[nan, nan, nan, nan]], dtype=float32), array([[nan, nan, nan, nan]], dtype=float32), array([[nan, nan, nan, nan]], dtype=float32), array([[nan, nan, nan, nan]], dtype=float32), array([[nan, nan, nan, nan]], dtype=float32), array([[nan, nan, nan, nan]], dtype=float32), array([[nan, nan, nan, nan]], dtype=float32), array([[nan, nan, nan, nan]], dtype=float32), array([[nan, nan, nan, nan]], dtype=float32), array([[nan, nan, nan, nan]], dtype=float32), array([[nan, nan, nan, nan]], dtype=float32), array([[nan, nan, nan, nan]], dtype=float32), array([[nan, nan, nan, nan]], dtype=float32), array([[nan, nan, nan, nan]], dtype=float32), array([[nan, nan, nan, nan]], dtype=float32), array([[nan, nan, nan, nan]], dtype=float32), array([[nan, nan, nan, nan]], dtype=float32), array([[nan, nan, nan, nan]], dtype=float32), array([[nan, nan, nan, nan]], dtype=float32), array([[nan, nan, nan, nan]], dtype=float32), array([[nan, nan, nan, nan]], dtype=float32), array([[nan, nan, nan, nan]], dtype=float32), array([[nan, nan, nan, nan]], dtype=float32), array([[nan, nan, nan, nan]], dtype=float32), array([[nan, nan, nan, nan]], dtype=float32), array([[nan, nan, nan, nan]], dtype=float32), array([[nan, nan, nan, nan]], dtype=float32), array([[nan, nan, nan, nan]], dtype=float32), array([[nan, nan, nan, nan]], dtype=float32), array([[nan, nan, nan, nan]], dtype=float32), array([[nan, nan, nan, nan]], dtype=float32), array([[nan, nan, nan, nan]], dtype=float32), array([[nan, nan, nan, nan]], dtype=float32), array([[nan, nan, nan, nan]], dtype=float32), array([[nan, nan, nan, nan]], dtype=float32), array([[nan, nan, nan, nan]], dtype=float32), array([[nan, nan, nan, nan]], dtype=float32), array([[nan, nan, nan, nan]], dtype=float32), array([[nan, nan, nan, nan]], dtype=float32), array([[nan, nan, nan, nan]], dtype=float32), array([[nan, nan, nan, nan]], dtype=float32), array([[nan, nan, nan, nan]], dtype=float32), array([[nan, nan, nan, nan]], dtype=float32), array([[nan, nan, nan, nan]], dtype=float32), array([[nan, nan, nan, nan]], dtype=float32), array([[nan, nan, nan, nan]], dtype=float32), array([[nan, nan, nan, nan]], dtype=float32), array([[nan, nan, nan, nan]], dtype=float32), array([[nan, nan, nan, nan]], dtype=float32), array([[nan, nan, nan, nan]], dtype=float32), array([[nan, nan, nan, nan]], dtype=float32), array([[nan, nan, nan, nan]], dtype=float32), array([[nan, nan, nan, nan]], dtype=float32), array([[nan, nan, nan, nan]], dtype=float32), array([[nan, nan, nan, nan]], dtype=float32), array([[nan, nan, nan, nan]], dtype=float32), array([[nan, nan, nan, nan]], dtype=float32), array([[nan, nan, nan, nan]], dtype=float32), array([[nan, nan, nan, nan]], dtype=float32), array([[nan, nan, nan, nan]], dtype=float32), array([[nan, nan, nan, nan]], dtype=float32), array([[nan, nan, nan, nan]], dtype=float32), array([[nan, nan, nan, nan]], dtype=float32), array([[nan, nan, nan, nan]], dtype=float32), array([[nan, nan, nan, nan]], dtype=float32), array([[nan, nan, nan, nan]], dtype=float32), array([[nan, nan, nan, nan]], dtype=float32), array([[nan, nan, nan, nan]], dtype=float32), array([[nan, nan, nan, nan]], dtype=float32), array([[nan, nan, nan, nan]], dtype=float32), array([[nan, nan, nan, nan]], dtype=float32), array([[nan, nan, nan, nan]], dtype=float32), array([[nan, nan, nan, nan]], dtype=float32), array([[nan, nan, nan, nan]], dtype=float32), array([[nan, nan, nan, nan]], dtype=float32), array([[nan, nan, nan, nan]], dtype=float32), array([[nan, nan, nan, nan]], dtype=float32), array([[nan, nan, nan, nan]], dtype=float32), array([[nan, nan, nan, nan]], dtype=float32), array([[nan, nan, nan, nan]], dtype=float32), array([[nan, nan, nan, nan]], dtype=float32), array([[nan, nan, nan, nan]], dtype=float32), array([[nan, nan, nan, nan]], dtype=float32), array([[nan, nan, nan, nan]], dtype=float32), array([[nan, nan, nan, nan]], dtype=float32), array([[nan, nan, nan, nan]], dtype=float32), array([[nan, nan, nan, nan]], dtype=float32), array([[nan, nan, nan, nan]], dtype=float32), array([[nan, nan, nan, nan]], dtype=float32), array([[nan, nan, nan, nan]], dtype=float32), array([[nan, nan, nan, nan]], dtype=float32), array([[nan, nan, nan, nan]], dtype=float32), array([[nan, nan, nan, nan]], dtype=float32), array([[nan, nan, nan, nan]], dtype=float32), array([[nan, nan, nan, nan]], dtype=float32), array([[nan, nan, nan, nan]], dtype=float32), array([[nan, nan, nan, nan]], dtype=float32), array([[nan, nan, nan, nan]], dtype=float32), array([[nan, nan, nan, nan]], dtype=float32), array([[nan, nan, nan, nan]], dtype=float32), array([[nan, nan, nan, nan]], dtype=float32), array([[nan, nan, nan, nan]], dtype=float32)]\n"
     ]
    }
   ],
   "source": [
    "x_test = np.load(\"Cache/LPD/new/x_test.npy\")\n",
    "y_test = np.load(\"Cache/LPD/new/y_test.npy\")\n",
    "im_test = []\n",
    "for path in tqdm_notebook(x_test):\n",
    "    im = io.imread(path.split(\"../\")[1])\n",
    "    im = np.reshape(im, (1, height, width, 3))\n",
    "    im_test.append(im)\n",
    "predictions = []\n",
    "for im in tqdm_notebook(im_test):\n",
    "    prediction = model.predict(im)\n",
    "    predictions.append(prediction)\n",
    "print(predictions)"
   ]
  },
  {
   "cell_type": "code",
   "execution_count": null,
   "metadata": {},
   "outputs": [],
   "source": []
  }
 ],
 "metadata": {
  "kernelspec": {
   "display_name": "Python 3",
   "language": "python",
   "name": "python3"
  },
  "language_info": {
   "codemirror_mode": {
    "name": "ipython",
    "version": 3
   },
   "file_extension": ".py",
   "mimetype": "text/x-python",
   "name": "python",
   "nbconvert_exporter": "python",
   "pygments_lexer": "ipython3",
   "version": "3.5.2"
  }
 },
 "nbformat": 4,
 "nbformat_minor": 2
}
