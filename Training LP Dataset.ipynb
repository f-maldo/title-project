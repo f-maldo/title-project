{
 "cells": [
  {
   "cell_type": "code",
   "execution_count": 1,
   "metadata": {},
   "outputs": [
    {
     "name": "stderr",
     "output_type": "stream",
     "text": [
      "/home/sagacius/.local/lib/python3.5/site-packages/h5py/__init__.py:36: FutureWarning: Conversion of the second argument of issubdtype from `float` to `np.floating` is deprecated. In future, it will be treated as `np.float64 == np.dtype(float).type`.\n",
      "  from ._conv import register_converters as _register_converters\n",
      "Using TensorFlow backend.\n"
     ]
    }
   ],
   "source": [
    "# For training\n",
    "from keras.applications import VGG16\n",
    "from keras import models, optimizers, layers\n",
    "# Testing plugin\n",
    "from livelossplot import PlotLossesKeras\n",
    "# For image loading\n",
    "from skimage import io\n",
    "import numpy as np\n",
    "from tqdm import tqdm_notebook"
   ]
  },
  {
   "cell_type": "code",
   "execution_count": 2,
   "metadata": {},
   "outputs": [],
   "source": [
    "height = 350\n",
    "width = 350"
   ]
  },
  {
   "cell_type": "code",
   "execution_count": 3,
   "metadata": {},
   "outputs": [],
   "source": [
    "vgg_conv = VGG16(weights=\"imagenet\", include_top=False, input_shape=(height, width, 3))\n",
    "#vgg_conv.summary()"
   ]
  },
  {
   "cell_type": "code",
   "execution_count": 4,
   "metadata": {},
   "outputs": [
    {
     "name": "stdout",
     "output_type": "stream",
     "text": [
      "_________________________________________________________________\n",
      "Layer (type)                 Output Shape              Param #   \n",
      "=================================================================\n",
      "input_1 (InputLayer)         (None, 350, 350, 3)       0         \n",
      "_________________________________________________________________\n",
      "block1_conv1 (Conv2D)        (None, 350, 350, 64)      1792      \n",
      "_________________________________________________________________\n",
      "block1_conv2 (Conv2D)        (None, 350, 350, 64)      36928     \n",
      "_________________________________________________________________\n",
      "block1_pool (MaxPooling2D)   (None, 175, 175, 64)      0         \n",
      "_________________________________________________________________\n",
      "block2_conv1 (Conv2D)        (None, 175, 175, 128)     73856     \n",
      "_________________________________________________________________\n",
      "block2_conv2 (Conv2D)        (None, 175, 175, 128)     147584    \n",
      "_________________________________________________________________\n",
      "block2_pool (MaxPooling2D)   (None, 87, 87, 128)       0         \n",
      "_________________________________________________________________\n",
      "conv2d_1 (Conv2D)            (None, 85, 85, 64)        73792     \n",
      "_________________________________________________________________\n",
      "max_pooling2d_1 (MaxPooling2 (None, 42, 42, 64)        0         \n",
      "_________________________________________________________________\n",
      "flatten_1 (Flatten)          (None, 112896)            0         \n",
      "_________________________________________________________________\n",
      "dense_1 (Dense)              (None, 256)               28901632  \n",
      "_________________________________________________________________\n",
      "dropout_1 (Dropout)          (None, 256)               0         \n",
      "_________________________________________________________________\n",
      "dense_2 (Dense)              (None, 4)                 1028      \n",
      "=================================================================\n",
      "Total params: 29,236,612\n",
      "Trainable params: 28,976,452\n",
      "Non-trainable params: 260,160\n",
      "_________________________________________________________________\n"
     ]
    },
    {
     "name": "stderr",
     "output_type": "stream",
     "text": [
      "/home/sagacius/.local/lib/python3.5/site-packages/ipykernel_launcher.py:17: UserWarning: Update your `Model` call to the Keras 2 API: `Model(inputs=Tensor(\"in..., outputs=Tensor(\"de...)`\n"
     ]
    }
   ],
   "source": [
    "# Creating dictionary that maps layer names to the layers\n",
    "layer_dict = dict([(layer.name, layer) for layer in vgg_conv.layers])\n",
    "\n",
    "# Getting output tensor of the last VGG layer that we want to include\n",
    "x = layer_dict['block2_pool'].output\n",
    "\n",
    "# Stacking a new simple convolutional network on top of it    \n",
    "x = layers.Conv2D(filters=64, kernel_size=(3, 3), activation='relu')(x)\n",
    "x = layers.MaxPooling2D(pool_size=(2, 2))(x)\n",
    "x = layers.Flatten()(x)\n",
    "x = layers.Dense(256, activation='relu')(x)\n",
    "x = layers.Dropout(0.5)(x)\n",
    "x = layers.Dense(4, activation='softmax')(x)\n",
    "\n",
    "# Creating new model. Please note that this is NOT a Sequential() model.\n",
    "from keras.models import Model\n",
    "model = Model(input=vgg_conv.input, output=x)\n",
    "\n",
    "# Make sure that the pre-trained bottom layers are not trainable\n",
    "for layer in model.layers[:7]:\n",
    "    layer.trainable = False\n",
    "model.summary()"
   ]
  },
  {
   "cell_type": "code",
   "execution_count": 5,
   "metadata": {},
   "outputs": [],
   "source": [
    "x_train = np.load(\"Cache/LPD/new/x_train.npy\")\n",
    "y_train = np.load(\"Cache/LPD/new/y_train.npy\")\n",
    "x_test = np.load(\"Cache/LPD/new/x_test.npy\")\n",
    "y_test = np.load(\"Cache/LPD/new/y_test.npy\")\n",
    "x_validation = np.load(\"Cache/LPD/new/x_validation.npy\")\n",
    "y_validation = np.load(\"Cache/LPD/new/y_validation.npy\")"
   ]
  },
  {
   "cell_type": "code",
   "execution_count": 6,
   "metadata": {},
   "outputs": [],
   "source": [
    "from sklearn.pipeline import make_pipeline\n",
    "from sklearn.preprocessing import MinMaxScaler"
   ]
  },
  {
   "cell_type": "code",
   "execution_count": 7,
   "metadata": {},
   "outputs": [
    {
     "data": {
      "application/vnd.jupyter.widget-view+json": {
       "model_id": "509a222216b94ef5b7e15f231937ffb5",
       "version_major": 2,
       "version_minor": 0
      },
      "text/plain": [
       "HBox(children=(IntProgress(value=0, max=630), HTML(value='')))"
      ]
     },
     "metadata": {},
     "output_type": "display_data"
    },
    {
     "name": "stdout",
     "output_type": "stream",
     "text": [
      "\n"
     ]
    },
    {
     "data": {
      "application/vnd.jupyter.widget-view+json": {
       "model_id": "89d8dff5b721481e9e20822218647e1a",
       "version_major": 2,
       "version_minor": 0
      },
      "text/plain": [
       "HBox(children=(IntProgress(value=0, max=90), HTML(value='')))"
      ]
     },
     "metadata": {},
     "output_type": "display_data"
    },
    {
     "name": "stdout",
     "output_type": "stream",
     "text": [
      "\n"
     ]
    }
   ],
   "source": [
    "im_train = []\n",
    "im_validation = []\n",
    "for path in tqdm_notebook(x_train):\n",
    "    im = io.imread(path.split(\"../\")[1])\n",
    "    im_train.append(im)\n",
    "for path in tqdm_notebook(x_validation):\n",
    "    im = io.imread(path.split(\"../\")[1])\n",
    "    im_validation.append(im)"
   ]
  },
  {
   "cell_type": "code",
   "execution_count": 8,
   "metadata": {},
   "outputs": [
    {
     "name": "stdout",
     "output_type": "stream",
     "text": [
      "[INFO] train matrix: 1808.79MB\n",
      "[INFO] validation matrix: 258.40MB\n"
     ]
    }
   ],
   "source": [
    "im_train = np.asarray(im_train, dtype=\"float64\") / 255.\n",
    "im_validation = np.asarray(im_validation, dtype=\"float64\") / 255.\n",
    "print(\"[INFO] train matrix: {:.2f}MB\".format(im_train.nbytes / (1024 * 1000.0)))\n",
    "print(\"[INFO] validation matrix: {:.2f}MB\".format(im_validation.nbytes / (1024 * 1000.0)))"
   ]
  },
  {
   "cell_type": "code",
   "execution_count": 10,
   "metadata": {},
   "outputs": [],
   "source": [
    "model.compile(loss='mse',\n",
    "              optimizer=optimizers.SGD(lr=0.01, decay=1e-6, momentum=0.9, nesterov=True),\n",
    "              metrics=['accuracy'])"
   ]
  },
  {
   "cell_type": "code",
   "execution_count": 12,
   "metadata": {},
   "outputs": [
    {
     "data": {
      "image/png": "[encoded data removed]",
      "text/plain": [
       "<Figure size 864x576 with 2 Axes>"
      ]
     },
     "metadata": {},
     "output_type": "display_data"
    }
   ],
   "source": [
    "history = model.fit(\n",
    "    im_train,\n",
    "    y_train,\n",
    "    batch_size=20,\n",
    "    epochs=50,\n",
    "    validation_data=(im_validation, y_validation),\n",
    "    shuffle=True,\n",
    "    callbacks=[PlotLossesKeras()],\n",
    "    verbose=1\n",
    ")"
   ]
  },
  {
   "cell_type": "code",
   "execution_count": 13,
   "metadata": {},
   "outputs": [],
   "source": [
    "model.save('Models/LD_mark1.h5')"
   ]
  },
  {
   "cell_type": "code",
   "execution_count": 14,
   "metadata": {},
   "outputs": [],
   "source": [
    "acc = history.history['acc']\n",
    "val_acc = history.history['val_acc']\n",
    "loss = history.history['loss']\n",
    "val_loss = history.history['val_loss']"
   ]
  },
  {
   "cell_type": "code",
   "execution_count": 15,
   "metadata": {},
   "outputs": [],
   "source": [
    "import numpy as np\n",
    "nacc = np.asarray(acc)\n",
    "nval_acc = np.asarray(val_acc)\n",
    "nloss = np.asarray(loss)\n",
    "nval_loss = np.asarray(val_loss)\n",
    "logs_mark = np.row_stack((nacc, nval_acc, nloss, nval_loss))"
   ]
  },
  {
   "cell_type": "code",
   "execution_count": 16,
   "metadata": {},
   "outputs": [],
   "source": [
    "np.save(\"Logs/LD_mark1.npy\", logs_mark)"
   ]
  },
  {
   "cell_type": "code",
   "execution_count": 17,
   "metadata": {},
   "outputs": [],
   "source": [
    "%matplotlib inline\n",
    "import matplotlib.pyplot as plt"
   ]
  },
  {
   "cell_type": "code",
   "execution_count": 18,
   "metadata": {},
   "outputs": [
    {
     "data": {
      "image/png": "[encoded data removed]",
      "text/plain": [
       "<Figure size 432x288 with 1 Axes>"
      ]
     },
     "metadata": {},
     "output_type": "display_data"
    },
    {
     "data": {
      "image/png": "[encoded data removed]",
      "text/plain": [
       "<Figure size 432x288 with 1 Axes>"
      ]
     },
     "metadata": {},
     "output_type": "display_data"
    }
   ],
   "source": [
    "epochs = range(len(acc))\n",
    " \n",
    "plt.plot(epochs, acc, 'b', label='Training acc')\n",
    "plt.plot(epochs, val_acc, 'r', label='Validation acc')\n",
    "plt.title('Training and validation accuracy')\n",
    "plt.legend()\n",
    " \n",
    "plt.figure()\n",
    " \n",
    "plt.plot(epochs, loss, 'b', label='Training loss')\n",
    "plt.plot(epochs, val_loss, 'r', label='Validation loss')\n",
    "plt.title('Training and validation loss')\n",
    "plt.legend()\n",
    " \n",
    "plt.show()"
   ]
  },
  {
   "cell_type": "code",
   "execution_count": 22,
   "metadata": {},
   "outputs": [
    {
     "data": {
      "application/vnd.jupyter.widget-view+json": {
       "model_id": "7d2c9a62580f49d780130c3b6a547414",
       "version_major": 2,
       "version_minor": 0
      },
      "text/plain": [
       "HBox(children=(IntProgress(value=0, max=180), HTML(value='')))"
      ]
     },
     "metadata": {},
     "output_type": "display_data"
    },
    {
     "name": "stdout",
     "output_type": "stream",
     "text": [
      "\n"
     ]
    }
   ],
   "source": [
    "im_test = []\n",
    "for path in tqdm_notebook(x_test):\n",
    "    im = io.imread(path.split(\"../\")[1])\n",
    "    im = np.reshape(im, (1, height, width, 3))\n",
    "    im_test.append(im)"
   ]
  },
  {
   "cell_type": "code",
   "execution_count": 23,
   "metadata": {},
   "outputs": [
    {
     "data": {
      "application/vnd.jupyter.widget-view+json": {
       "model_id": "04c86de10a12472e994ffb33fa574474",
       "version_major": 2,
       "version_minor": 0
      },
      "text/plain": [
       "HBox(children=(IntProgress(value=0, max=180), HTML(value='')))"
      ]
     },
     "metadata": {},
     "output_type": "display_data"
    },
    {
     "name": "stdout",
     "output_type": "stream",
     "text": [
      "\n"
     ]
    }
   ],
   "source": [
    "predictions = []\n",
    "for im in tqdm_notebook(im_test):\n",
    "    prediction = model.predict(im_test[0])\n",
    "    predictions.append(append)"
   ]
  },
  {
   "cell_type": "code",
   "execution_count": 24,
   "metadata": {},
   "outputs": [
    {
     "name": "stdout",
     "output_type": "stream",
     "text": [
      "[[0.11350844 0.40920097 0.1318328  0.14976957]]\n",
      "[[0.11350844 0.40920097 0.1318328  0.14976957]]\n",
      "[[0.11350844 0.40920097 0.1318328  0.14976957]]\n",
      "[[0.11350844 0.40920097 0.1318328  0.14976957]]\n",
      "[[0.11350844 0.40920097 0.1318328  0.14976957]]\n",
      "[[0.11350844 0.40920097 0.1318328  0.14976957]]\n",
      "[[0.11350844 0.40920097 0.1318328  0.14976957]]\n",
      "[[0.11350844 0.40920097 0.1318328  0.14976957]]\n",
      "[[0.11350844 0.40920097 0.1318328  0.14976957]]\n",
      "[[0.11350844 0.40920097 0.1318328  0.14976957]]\n",
      "[[0.11350844 0.40920097 0.1318328  0.14976957]]\n",
      "[[0.11350844 0.40920097 0.1318328  0.14976957]]\n",
      "[[0.11350844 0.40920097 0.1318328  0.14976957]]\n",
      "[[0.11350844 0.40920097 0.1318328  0.14976957]]\n",
      "[[0.11350844 0.40920097 0.1318328  0.14976957]]\n",
      "[[0.11350844 0.40920097 0.1318328  0.14976957]]\n",
      "[[0.11350844 0.40920097 0.1318328  0.14976957]]\n",
      "[[0.11350844 0.40920097 0.1318328  0.14976957]]\n",
      "[[0.11350844 0.40920097 0.1318328  0.14976957]]\n",
      "[[0.11350844 0.40920097 0.1318328  0.14976957]]\n",
      "[[0.11350844 0.40920097 0.1318328  0.14976957]]\n",
      "[[0.11350844 0.40920097 0.1318328  0.14976957]]\n",
      "[[0.11350844 0.40920097 0.1318328  0.14976957]]\n",
      "[[0.11350844 0.40920097 0.1318328  0.14976957]]\n",
      "[[0.11350844 0.40920097 0.1318328  0.14976957]]\n",
      "[[0.11350844 0.40920097 0.1318328  0.14976957]]\n",
      "[[0.11350844 0.40920097 0.1318328  0.14976957]]\n",
      "[[0.11350844 0.40920097 0.1318328  0.14976957]]\n",
      "[[0.11350844 0.40920097 0.1318328  0.14976957]]\n",
      "[[0.11350844 0.40920097 0.1318328  0.14976957]]\n",
      "[[0.11350844 0.40920097 0.1318328  0.14976957]]\n",
      "[[0.11350844 0.40920097 0.1318328  0.14976957]]\n",
      "[[0.11350844 0.40920097 0.1318328  0.14976957]]\n",
      "[[0.11350844 0.40920097 0.1318328  0.14976957]]\n",
      "[[0.11350844 0.40920097 0.1318328  0.14976957]]\n",
      "[[0.11350844 0.40920097 0.1318328  0.14976957]]\n",
      "[[0.11350844 0.40920097 0.1318328  0.14976957]]\n",
      "[[0.11350844 0.40920097 0.1318328  0.14976957]]\n",
      "[[0.11350844 0.40920097 0.1318328  0.14976957]]\n",
      "[[0.11350844 0.40920097 0.1318328  0.14976957]]\n",
      "[[0.11350844 0.40920097 0.1318328  0.14976957]]\n",
      "[[0.11350844 0.40920097 0.1318328  0.14976957]]\n",
      "[[0.11350844 0.40920097 0.1318328  0.14976957]]\n",
      "[[0.11350844 0.40920097 0.1318328  0.14976957]]\n",
      "[[0.11350844 0.40920097 0.1318328  0.14976957]]\n",
      "[[0.11350844 0.40920097 0.1318328  0.14976957]]\n",
      "[[0.11350844 0.40920097 0.1318328  0.14976957]]\n",
      "[[0.11350844 0.40920097 0.1318328  0.14976957]]\n",
      "[[0.11350844 0.40920097 0.1318328  0.14976957]]\n",
      "[[0.11350844 0.40920097 0.1318328  0.14976957]]\n",
      "[[0.11350844 0.40920097 0.1318328  0.14976957]]\n",
      "[[0.11350844 0.40920097 0.1318328  0.14976957]]\n",
      "[[0.11350844 0.40920097 0.1318328  0.14976957]]\n",
      "[[0.11350844 0.40920097 0.1318328  0.14976957]]\n",
      "[[0.11350844 0.40920097 0.1318328  0.14976957]]\n",
      "[[0.11350844 0.40920097 0.1318328  0.14976957]]\n",
      "[[0.11350844 0.40920097 0.1318328  0.14976957]]\n",
      "[[0.11350844 0.40920097 0.1318328  0.14976957]]\n",
      "[[0.11350844 0.40920097 0.1318328  0.14976957]]\n",
      "[[0.11350844 0.40920097 0.1318328  0.14976957]]\n",
      "[[0.11350844 0.40920097 0.1318328  0.14976957]]\n",
      "[[0.11350844 0.40920097 0.1318328  0.14976957]]\n",
      "[[0.11350844 0.40920097 0.1318328  0.14976957]]\n",
      "[[0.11350844 0.40920097 0.1318328  0.14976957]]\n",
      "[[0.11350844 0.40920097 0.1318328  0.14976957]]\n",
      "[[0.11350844 0.40920097 0.1318328  0.14976957]]\n",
      "[[0.11350844 0.40920097 0.1318328  0.14976957]]\n",
      "[[0.11350844 0.40920097 0.1318328  0.14976957]]\n",
      "[[0.11350844 0.40920097 0.1318328  0.14976957]]\n",
      "[[0.11350844 0.40920097 0.1318328  0.14976957]]\n",
      "[[0.11350844 0.40920097 0.1318328  0.14976957]]\n",
      "[[0.11350844 0.40920097 0.1318328  0.14976957]]\n",
      "[[0.11350844 0.40920097 0.1318328  0.14976957]]\n",
      "[[0.11350844 0.40920097 0.1318328  0.14976957]]\n",
      "[[0.11350844 0.40920097 0.1318328  0.14976957]]\n",
      "[[0.11350844 0.40920097 0.1318328  0.14976957]]\n",
      "[[0.11350844 0.40920097 0.1318328  0.14976957]]\n",
      "[[0.11350844 0.40920097 0.1318328  0.14976957]]\n",
      "[[0.11350844 0.40920097 0.1318328  0.14976957]]\n",
      "[[0.11350844 0.40920097 0.1318328  0.14976957]]\n",
      "[[0.11350844 0.40920097 0.1318328  0.14976957]]\n",
      "[[0.11350844 0.40920097 0.1318328  0.14976957]]\n",
      "[[0.11350844 0.40920097 0.1318328  0.14976957]]\n",
      "[[0.11350844 0.40920097 0.1318328  0.14976957]]\n",
      "[[0.11350844 0.40920097 0.1318328  0.14976957]]\n",
      "[[0.11350844 0.40920097 0.1318328  0.14976957]]\n",
      "[[0.11350844 0.40920097 0.1318328  0.14976957]]\n",
      "[[0.11350844 0.40920097 0.1318328  0.14976957]]\n",
      "[[0.11350844 0.40920097 0.1318328  0.14976957]]\n",
      "[[0.11350844 0.40920097 0.1318328  0.14976957]]\n",
      "[[0.11350844 0.40920097 0.1318328  0.14976957]]\n",
      "[[0.11350844 0.40920097 0.1318328  0.14976957]]\n",
      "[[0.11350844 0.40920097 0.1318328  0.14976957]]\n",
      "[[0.11350844 0.40920097 0.1318328  0.14976957]]\n",
      "[[0.11350844 0.40920097 0.1318328  0.14976957]]\n",
      "[[0.11350844 0.40920097 0.1318328  0.14976957]]\n",
      "[[0.11350844 0.40920097 0.1318328  0.14976957]]\n",
      "[[0.11350844 0.40920097 0.1318328  0.14976957]]\n",
      "[[0.11350844 0.40920097 0.1318328  0.14976957]]\n",
      "[[0.11350844 0.40920097 0.1318328  0.14976957]]\n",
      "[[0.11350844 0.40920097 0.1318328  0.14976957]]\n",
      "[[0.11350844 0.40920097 0.1318328  0.14976957]]\n",
      "[[0.11350844 0.40920097 0.1318328  0.14976957]]\n",
      "[[0.11350844 0.40920097 0.1318328  0.14976957]]\n",
      "[[0.11350844 0.40920097 0.1318328  0.14976957]]\n",
      "[[0.11350844 0.40920097 0.1318328  0.14976957]]\n",
      "[[0.11350844 0.40920097 0.1318328  0.14976957]]\n",
      "[[0.11350844 0.40920097 0.1318328  0.14976957]]\n",
      "[[0.11350844 0.40920097 0.1318328  0.14976957]]\n",
      "[[0.11350844 0.40920097 0.1318328  0.14976957]]\n",
      "[[0.11350844 0.40920097 0.1318328  0.14976957]]\n",
      "[[0.11350844 0.40920097 0.1318328  0.14976957]]\n",
      "[[0.11350844 0.40920097 0.1318328  0.14976957]]\n",
      "[[0.11350844 0.40920097 0.1318328  0.14976957]]\n",
      "[[0.11350844 0.40920097 0.1318328  0.14976957]]\n",
      "[[0.11350844 0.40920097 0.1318328  0.14976957]]\n",
      "[[0.11350844 0.40920097 0.1318328  0.14976957]]\n",
      "[[0.11350844 0.40920097 0.1318328  0.14976957]]\n",
      "[[0.11350844 0.40920097 0.1318328  0.14976957]]\n",
      "[[0.11350844 0.40920097 0.1318328  0.14976957]]\n",
      "[[0.11350844 0.40920097 0.1318328  0.14976957]]\n",
      "[[0.11350844 0.40920097 0.1318328  0.14976957]]\n",
      "[[0.11350844 0.40920097 0.1318328  0.14976957]]\n",
      "[[0.11350844 0.40920097 0.1318328  0.14976957]]\n",
      "[[0.11350844 0.40920097 0.1318328  0.14976957]]\n",
      "[[0.11350844 0.40920097 0.1318328  0.14976957]]\n",
      "[[0.11350844 0.40920097 0.1318328  0.14976957]]\n",
      "[[0.11350844 0.40920097 0.1318328  0.14976957]]\n",
      "[[0.11350844 0.40920097 0.1318328  0.14976957]]\n",
      "[[0.11350844 0.40920097 0.1318328  0.14976957]]\n",
      "[[0.11350844 0.40920097 0.1318328  0.14976957]]\n",
      "[[0.11350844 0.40920097 0.1318328  0.14976957]]\n",
      "[[0.11350844 0.40920097 0.1318328  0.14976957]]\n",
      "[[0.11350844 0.40920097 0.1318328  0.14976957]]\n",
      "[[0.11350844 0.40920097 0.1318328  0.14976957]]\n",
      "[[0.11350844 0.40920097 0.1318328  0.14976957]]\n",
      "[[0.11350844 0.40920097 0.1318328  0.14976957]]\n",
      "[[0.11350844 0.40920097 0.1318328  0.14976957]]\n",
      "[[0.11350844 0.40920097 0.1318328  0.14976957]]\n",
      "[[0.11350844 0.40920097 0.1318328  0.14976957]]\n",
      "[[0.11350844 0.40920097 0.1318328  0.14976957]]\n",
      "[[0.11350844 0.40920097 0.1318328  0.14976957]]\n",
      "[[0.11350844 0.40920097 0.1318328  0.14976957]]\n",
      "[[0.11350844 0.40920097 0.1318328  0.14976957]]\n",
      "[[0.11350844 0.40920097 0.1318328  0.14976957]]\n",
      "[[0.11350844 0.40920097 0.1318328  0.14976957]]\n",
      "[[0.11350844 0.40920097 0.1318328  0.14976957]]\n",
      "[[0.11350844 0.40920097 0.1318328  0.14976957]]\n",
      "[[0.11350844 0.40920097 0.1318328  0.14976957]]\n",
      "[[0.11350844 0.40920097 0.1318328  0.14976957]]\n",
      "[[0.11350844 0.40920097 0.1318328  0.14976957]]\n",
      "[[0.11350844 0.40920097 0.1318328  0.14976957]]\n",
      "[[0.11350844 0.40920097 0.1318328  0.14976957]]\n",
      "[[0.11350844 0.40920097 0.1318328  0.14976957]]\n",
      "[[0.11350844 0.40920097 0.1318328  0.14976957]]\n",
      "[[0.11350844 0.40920097 0.1318328  0.14976957]]\n",
      "[[0.11350844 0.40920097 0.1318328  0.14976957]]\n",
      "[[0.11350844 0.40920097 0.1318328  0.14976957]]\n",
      "[[0.11350844 0.40920097 0.1318328  0.14976957]]\n",
      "[[0.11350844 0.40920097 0.1318328  0.14976957]]\n",
      "[[0.11350844 0.40920097 0.1318328  0.14976957]]\n",
      "[[0.11350844 0.40920097 0.1318328  0.14976957]]\n",
      "[[0.11350844 0.40920097 0.1318328  0.14976957]]\n",
      "[[0.11350844 0.40920097 0.1318328  0.14976957]]\n",
      "[[0.11350844 0.40920097 0.1318328  0.14976957]]\n",
      "[[0.11350844 0.40920097 0.1318328  0.14976957]]\n",
      "[[0.11350844 0.40920097 0.1318328  0.14976957]]\n",
      "[[0.11350844 0.40920097 0.1318328  0.14976957]]\n",
      "[[0.11350844 0.40920097 0.1318328  0.14976957]]\n",
      "[[0.11350844 0.40920097 0.1318328  0.14976957]]\n",
      "[[0.11350844 0.40920097 0.1318328  0.14976957]]\n",
      "[[0.11350844 0.40920097 0.1318328  0.14976957]]\n",
      "[[0.11350844 0.40920097 0.1318328  0.14976957]]\n",
      "[[0.11350844 0.40920097 0.1318328  0.14976957]]\n",
      "[[0.11350844 0.40920097 0.1318328  0.14976957]]\n",
      "[[0.11350844 0.40920097 0.1318328  0.14976957]]\n",
      "[[0.11350844 0.40920097 0.1318328  0.14976957]]\n",
      "[[0.11350844 0.40920097 0.1318328  0.14976957]]\n",
      "[[0.11350844 0.40920097 0.1318328  0.14976957]]\n",
      "[[0.11350844 0.40920097 0.1318328  0.14976957]]\n"
     ]
    }
   ],
   "source": [
    "idx = 100\n",
    "for p in predictions:\n",
    "    print(p)"
   ]
  },
  {
   "cell_type": "code",
   "execution_count": null,
   "metadata": {},
   "outputs": [],
   "source": []
  },
  {
   "cell_type": "code",
   "execution_count": null,
   "metadata": {},
   "outputs": [],
   "source": []
  }
 ],
 "metadata": {
  "kernelspec": {
   "display_name": "Python 3",
   "language": "python",
   "name": "python3"
  },
  "language_info": {
   "codemirror_mode": {
    "name": "ipython",
    "version": 3
   },
   "file_extension": ".py",
   "mimetype": "text/x-python",
   "name": "python",
   "nbconvert_exporter": "python",
   "pygments_lexer": "ipython3",
   "version": "3.5.2"
  }
 },
 "nbformat": 4,
 "nbformat_minor": 2
}
