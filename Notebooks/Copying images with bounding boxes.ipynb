{
 "cells": [
  {
   "cell_type": "code",
   "execution_count": 1,
   "metadata": {},
   "outputs": [],
   "source": [
    "import numpy as np\n",
    "from os import walk\n",
    "from os.path import join\n",
    "from tqdm import tqdm, tqdm_notebook\n",
    "from shutil import copyfile\n",
    "from IPython.display import clear_output\n",
    "# For reading bb\n",
    "%matplotlib inline\n",
    "from skimage import io"
   ]
  },
  {
   "cell_type": "code",
   "execution_count": 2,
   "metadata": {},
   "outputs": [],
   "source": [
    "import os\n",
    "for num in range(1, 2005):\n",
    "    os.makedirs(\"../ImagesForFlow2/train/\" + str(num))\n",
    "    os.makedirs(\"../ImagesForFlow2/test/\" + str(num))\n",
    "    os.makedirs(\"../ImagesForFlow2/validation/\" + str(num))\n",
    "#for num in range(1, 11):\n",
    "#    os.makedirs(\"../TestingTraining/train/\" + str(num))\n",
    "#    os.makedirs(\"../TestingTraining/test/\" + str(num))"
   ]
  },
  {
   "cell_type": "code",
   "execution_count": 9,
   "metadata": {},
   "outputs": [
    {
     "name": "stdout",
     "output_type": "stream",
     "text": [
      "../CompCars/data/image/50/1132/2013/3eb9effa9cc21b.jpg\n",
      "3eb9effa9cc21b.jpg\n"
     ]
    }
   ],
   "source": [
    "x = np.load(\"../Cache/x_train.npy\")\n",
    "y = np.load(\"../Cache/y_train.npy\")\n",
    "print(x[0])\n",
    "print(x[0].split(\"/\")[-1])"
   ]
  },
  {
   "cell_type": "code",
   "execution_count": 10,
   "metadata": {},
   "outputs": [],
   "source": [
    "nx = np.asarray(x)\n",
    "ny = np.asarray(y)\n",
    "xy = np.column_stack((x, y))"
   ]
  },
  {
   "cell_type": "code",
   "execution_count": 15,
   "metadata": {},
   "outputs": [
    {
     "data": {
      "application/vnd.jupyter.widget-view+json": {
       "model_id": "11ff7e9c08d94f77bf7c730d26211e59",
       "version_major": 2,
       "version_minor": 0
      },
      "text/plain": [
       "HBox(children=(IntProgress(value=0, max=95707), HTML(value='')))"
      ]
     },
     "metadata": {},
     "output_type": "display_data"
    }
   ],
   "source": [
    "new = \"../ImagesForFlow2/train/\"\n",
    "#new = \"../TestingTraining/test/\"\n",
    "for file in tqdm_notebook(xy):\n",
    "    label = file[0].replace(\"image\", \"label\")\n",
    "    label = label.replace(\"jpg\", \"txt\")\n",
    "    F = open(label)\n",
    "    cords = F.readlines()[2]\n",
    "    x1 = int(cords[:-1].split(\" \")[0])\n",
    "    x2 = int(cords[:-1].split(\" \")[2])\n",
    "    y1 = int(cords[:-1].split(\" \")[1])\n",
    "    y2 = int(cords[:-1].split(\" \")[3])\n",
    "    #if y2 - y1 <= 50 or x2 - x1 <= 50:\n",
    "    #    print(\"Bad bounding boxes\")\n",
    "    #    print(file[0])\n",
    "    old = io.imread(file[0])\n",
    "    newf = join(join(new, file[1]), file[0].split(\"/\")[-1])\n",
    "    io.imsave(newf, old[y1:y2, x1:x2])\n",
    "    #clear_output()"
   ]
  },
  {
   "cell_type": "code",
   "execution_count": null,
   "metadata": {},
   "outputs": [],
   "source": []
  }
 ],
 "metadata": {
  "kernelspec": {
   "display_name": "Python 3",
   "language": "python",
   "name": "python3"
  },
  "language_info": {
   "codemirror_mode": {
    "name": "ipython",
    "version": 3
   },
   "file_extension": ".py",
   "mimetype": "text/x-python",
   "name": "python",
   "nbconvert_exporter": "python",
   "pygments_lexer": "ipython3",
   "version": "3.5.2"
  }
 },
 "nbformat": 4,
 "nbformat_minor": 2
}
