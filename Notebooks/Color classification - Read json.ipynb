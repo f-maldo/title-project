{
 "cells": [
  {
   "cell_type": "code",
   "execution_count": 1,
   "metadata": {},
   "outputs": [],
   "source": [
    "import json"
   ]
  },
  {
   "cell_type": "code",
   "execution_count": 2,
   "metadata": {},
   "outputs": [],
   "source": [
    "data = open(\"/home/sagacius/Documentos/projects/carcolorspider/output.json\").read()\n",
    "data = json.loads(data)"
   ]
  },
  {
   "cell_type": "code",
   "execution_count": 9,
   "metadata": {},
   "outputs": [
    {
     "name": "stdout",
     "output_type": "stream",
     "text": [
      "{'model': '2007 Hyundai H-1 MINIBUS H-1 SVX AC', 'files': [{'path': 'full/cd9342ca1bffaa17db6894bbaf117df1416954e3.jpg', 'url': 'https://chileautos.pxcrush.net/chileautos/auto/particular/dpkeryjo4ob7tetaa38h9hysd.jpg', 'checksum': '111bb7958177623ee3b7ffce91e1237d'}], 'type_car': 'Cabina Simple', 'file_urls': ['https://chileautos.pxcrush.net/chileautos/auto/particular/dpkeryjo4ob7tetaa38h9hysd.jpg'], 'color': 'manual'}\n"
     ]
    }
   ],
   "source": [
    "print(data[4210])"
   ]
  },
  {
   "cell_type": "code",
   "execution_count": null,
   "metadata": {},
   "outputs": [],
   "source": []
  }
 ],
 "metadata": {
  "kernelspec": {
   "display_name": "Python 3",
   "language": "python",
   "name": "python3"
  },
  "language_info": {
   "codemirror_mode": {
    "name": "ipython",
    "version": 3
   },
   "file_extension": ".py",
   "mimetype": "text/x-python",
   "name": "python",
   "nbconvert_exporter": "python",
   "pygments_lexer": "ipython3",
   "version": "3.5.2"
  }
 },
 "nbformat": 4,
 "nbformat_minor": 2
}
