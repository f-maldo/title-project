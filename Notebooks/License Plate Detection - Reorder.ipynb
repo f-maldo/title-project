{
 "cells": [
  {
   "cell_type": "code",
   "execution_count": 1,
   "metadata": {},
   "outputs": [],
   "source": [
    "%matplotlib inline\n",
    "import numpy as np\n",
    "from tqdm import tqdm, tqdm_notebook\n",
    "from os import makedirs\n",
    "from os.path import exists, join\n",
    "from shutil import copyfile\n",
    "from skimage import io, transform"
   ]
  },
  {
   "cell_type": "code",
   "execution_count": 2,
   "metadata": {},
   "outputs": [],
   "source": [
    "x_train_paths = np.load(\"../Cache/LPD/original/x_train.npy\")\n",
    "x_test_paths = np.load(\"../Cache/LPD/original/x_test.npy\")\n",
    "x_validation_paths = np.load(\"../Cache/LPD/original/x_validation.npy\")\n",
    "y_train_paths = np.load(\"../Cache/LPD/original/y_train.npy\")\n",
    "y_test_paths = np.load(\"../Cache/LPD/original/y_test.npy\")\n",
    "y_validation_paths = np.load(\"../Cache/LPD/original/y_validation.npy\")"
   ]
  },
  {
   "cell_type": "code",
   "execution_count": 3,
   "metadata": {},
   "outputs": [
    {
     "name": "stdout",
     "output_type": "stream",
     "text": [
      "../UFPR-ALPR-dataset/training/track0008/track0008[21].png [428 860  26  78]\n",
      "track0008[21]\n",
      "(1080, 1920, 3)\n",
      "<class 'numpy.int64'>\n"
     ]
    }
   ],
   "source": [
    "print(x_train_paths[0], y_train_paths[0])\n",
    "print(x_train_paths[0].split(\"/\")[-1][:-4])\n",
    "im = io.imread(x_train_paths[0])\n",
    "print(im.shape)\n",
    "print(type(y_train_paths[0][0]))"
   ]
  },
  {
   "cell_type": "code",
   "execution_count": 4,
   "metadata": {},
   "outputs": [
    {
     "name": "stdout",
     "output_type": "stream",
     "text": [
      "(1800,) (1800, 4)\n",
      "(4500,) (4500, 4)\n",
      "../UFPR-ALPR-dataset/testing/track0144/track0144[28].png ../UFPR-ALPR-dataset/testing/track0144/track0144[28].png\n"
     ]
    }
   ],
   "source": [
    "print(x_train_paths.shape, y_train_paths.shape)\n",
    "X = np.concatenate((x_train_paths, x_test_paths, x_validation_paths))\n",
    "Y = np.concatenate((y_train_paths, y_test_paths, y_validation_paths))\n",
    "print(X.shape, Y.shape)\n",
    "print(x_test_paths[0], X[1800])"
   ]
  },
  {
   "cell_type": "markdown",
   "metadata": {},
   "source": [
    "# Spliting"
   ]
  },
  {
   "cell_type": "code",
   "execution_count": 5,
   "metadata": {},
   "outputs": [],
   "source": [
    "from sklearn.model_selection import train_test_split"
   ]
  },
  {
   "cell_type": "code",
   "execution_count": 6,
   "metadata": {},
   "outputs": [],
   "source": [
    "x_train, x_test, y_train, y_test = train_test_split(X, Y, test_size=0.2)\n",
    "x_train, x_validation, y_train, y_validation = train_test_split(x_train, y_train, test_size=0.125)"
   ]
  },
  {
   "cell_type": "code",
   "execution_count": 7,
   "metadata": {},
   "outputs": [
    {
     "name": "stdout",
     "output_type": "stream",
     "text": [
      "(3150, 4) (900, 4) (450, 4)\n"
     ]
    }
   ],
   "source": [
    "print(y_train.shape, y_test.shape, y_validation.shape)"
   ]
  },
  {
   "cell_type": "code",
   "execution_count": 8,
   "metadata": {},
   "outputs": [],
   "source": [
    "np.save(\"../Cache/LPD/new/x_train.npy\", x_train)\n",
    "np.save(\"../Cache/LPD/new/x_test.npy\", x_test)\n",
    "np.save(\"../Cache/LPD/new/x_validation.npy\", x_validation)\n",
    "np.save(\"../Cache/LPD/new/y_train.npy\", y_train)\n",
    "np.save(\"../Cache/LPD/new/y_test.npy\", y_test)\n",
    "np.save(\"../Cache/LPD/new/y_validation.npy\", y_validation)"
   ]
  },
  {
   "cell_type": "code",
   "execution_count": 9,
   "metadata": {},
   "outputs": [],
   "source": [
    "dim_x = 416\n",
    "dim_y = 416"
   ]
  },
  {
   "cell_type": "markdown",
   "metadata": {},
   "source": [
    "# Train"
   ]
  },
  {
   "cell_type": "code",
   "execution_count": 10,
   "metadata": {},
   "outputs": [
    {
     "data": {
      "application/vnd.jupyter.widget-view+json": {
       "model_id": "931f42c2343044218fd1d7dd8fa350c5",
       "version_major": 2,
       "version_minor": 0
      },
      "text/plain": [
       "HBox(children=(IntProgress(value=0, max=3150), HTML(value='')))"
      ]
     },
     "metadata": {},
     "output_type": "display_data"
    },
    {
     "name": "stderr",
     "output_type": "stream",
     "text": [
      "/home/sagacius/.local/lib/python3.5/site-packages/skimage/transform/_warps.py:84: UserWarning: The default mode, 'constant', will be changed to 'reflect' in skimage 0.15.\n",
      "  warn(\"The default mode, 'constant', will be changed to 'reflect' in \"\n",
      "/home/sagacius/.local/lib/python3.5/site-packages/skimage/util/dtype.py:122: UserWarning: Possible precision loss when converting from float64 to uint8\n",
      "  .format(dtypeobj_in, dtypeobj_out))\n"
     ]
    },
    {
     "name": "stdout",
     "output_type": "stream",
     "text": [
      "\n"
     ]
    }
   ],
   "source": [
    "train_dir = \"../LPD/training/\"\n",
    "if not exists(train_dir):\n",
    "    makedirs(train_dir)\n",
    "xy = np.column_stack((x_train, y_train))\n",
    "for path in tqdm_notebook(xy):\n",
    "    im = io.imread(path[0])\n",
    "    dw = 1. / im.shape[1]\n",
    "    dh = 1. / im.shape[0]\n",
    "    im = transform.resize(im, (dim_y, dim_x))\n",
    "    bb = np.asarray(path[1:], dtype=int)\n",
    "    x = bb[1] * dw\n",
    "    y = bb[0] * dh\n",
    "    w = bb[3] * dw\n",
    "    h = bb[2] * dh\n",
    "    bb = (x, y, w, h)\n",
    "    with open(join(train_dir, path[0].split(\"/\")[-1][:-4]) + \".txt\", \"w\") as file:\n",
    "        file.write(\" \".join([str(a) for a in bb]) + '\\n')\n",
    "    io.imsave(join(train_dir, path[0].split(\"/\")[-1][:-4]) + \".jpg\", im)"
   ]
  },
  {
   "cell_type": "markdown",
   "metadata": {},
   "source": [
    "# Test"
   ]
  },
  {
   "cell_type": "code",
   "execution_count": 11,
   "metadata": {},
   "outputs": [
    {
     "data": {
      "application/vnd.jupyter.widget-view+json": {
       "model_id": "d95fb956b9ba478fb2bd627e4349ea0f",
       "version_major": 2,
       "version_minor": 0
      },
      "text/plain": [
       "HBox(children=(IntProgress(value=0, max=900), HTML(value='')))"
      ]
     },
     "metadata": {},
     "output_type": "display_data"
    },
    {
     "name": "stderr",
     "output_type": "stream",
     "text": [
      "/home/sagacius/.local/lib/python3.5/site-packages/skimage/transform/_warps.py:84: UserWarning: The default mode, 'constant', will be changed to 'reflect' in skimage 0.15.\n",
      "  warn(\"The default mode, 'constant', will be changed to 'reflect' in \"\n",
      "/home/sagacius/.local/lib/python3.5/site-packages/skimage/util/dtype.py:122: UserWarning: Possible precision loss when converting from float64 to uint8\n",
      "  .format(dtypeobj_in, dtypeobj_out))\n"
     ]
    },
    {
     "name": "stdout",
     "output_type": "stream",
     "text": [
      "\n"
     ]
    }
   ],
   "source": [
    "test_dir = \"../LPD/testing/\"\n",
    "if not exists(test_dir):\n",
    "    makedirs(test_dir)\n",
    "xy = np.column_stack((x_test, y_test))\n",
    "for path in tqdm_notebook(xy):\n",
    "    im = io.imread(path[0])\n",
    "    dw = 1. / im.shape[1]\n",
    "    dh = 1. / im.shape[0]\n",
    "    im = transform.resize(im, (dim_y, dim_x))\n",
    "    bb = np.asarray(path[1:], dtype=int)\n",
    "    x = bb[1] * dw\n",
    "    y = bb[0] * dh\n",
    "    w = bb[3] * dw\n",
    "    h = bb[2] * dh\n",
    "    bb = (x, y, w, h)\n",
    "    with open(join(test_dir, path[0].split(\"/\")[-1][:-4]) + \".txt\", \"w\") as file:\n",
    "        file.write(\" \".join([str(a) for a in bb]) + '\\n')\n",
    "    io.imsave(join(test_dir, path[0].split(\"/\")[-1][:-4]) + \".jpg\", im)"
   ]
  },
  {
   "cell_type": "markdown",
   "metadata": {},
   "source": [
    "# Validation"
   ]
  },
  {
   "cell_type": "code",
   "execution_count": 12,
   "metadata": {},
   "outputs": [
    {
     "data": {
      "application/vnd.jupyter.widget-view+json": {
       "model_id": "f49779e749cc4f2c92825cf877a38122",
       "version_major": 2,
       "version_minor": 0
      },
      "text/plain": [
       "HBox(children=(IntProgress(value=0, max=450), HTML(value='')))"
      ]
     },
     "metadata": {},
     "output_type": "display_data"
    },
    {
     "name": "stderr",
     "output_type": "stream",
     "text": [
      "/home/sagacius/.local/lib/python3.5/site-packages/skimage/transform/_warps.py:84: UserWarning: The default mode, 'constant', will be changed to 'reflect' in skimage 0.15.\n",
      "  warn(\"The default mode, 'constant', will be changed to 'reflect' in \"\n",
      "/home/sagacius/.local/lib/python3.5/site-packages/skimage/util/dtype.py:122: UserWarning: Possible precision loss when converting from float64 to uint8\n",
      "  .format(dtypeobj_in, dtypeobj_out))\n"
     ]
    },
    {
     "name": "stdout",
     "output_type": "stream",
     "text": [
      "\n"
     ]
    }
   ],
   "source": [
    "validation_dir = \"../LPD/validation/\"\n",
    "if not exists(validation_dir):\n",
    "    makedirs(validation_dir)\n",
    "xy = np.column_stack((x_validation, y_validation))\n",
    "for path in tqdm_notebook(xy):\n",
    "    im = io.imread(path[0])\n",
    "    dw = 1. / im.shape[1]\n",
    "    dh = 1. / im.shape[0]\n",
    "    im = transform.resize(im, (dim_y, dim_x))\n",
    "    bb = np.asarray(path[1:], dtype=int)\n",
    "    x = bb[1] * dw\n",
    "    y = bb[0] * dh\n",
    "    w = bb[3] * dw\n",
    "    h = bb[2] * dh\n",
    "    bb = (x, y, w, h)\n",
    "    with open(join(validation_dir, path[0].split(\"/\")[-1][:-4]) + \".txt\", \"w\") as file:\n",
    "        file.write(\" \".join([str(a) for a in bb]) + '\\n')\n",
    "    io.imsave(join(validation_dir, path[0].split(\"/\")[-1][:-4]) + \".jpg\", im)"
   ]
  },
  {
   "cell_type": "code",
   "execution_count": null,
   "metadata": {},
   "outputs": [],
   "source": []
  }
 ],
 "metadata": {
  "kernelspec": {
   "display_name": "Python 3",
   "language": "python",
   "name": "python3"
  },
  "language_info": {
   "codemirror_mode": {
    "name": "ipython",
    "version": 3
   },
   "file_extension": ".py",
   "mimetype": "text/x-python",
   "name": "python",
   "nbconvert_exporter": "python",
   "pygments_lexer": "ipython3",
   "version": "3.5.2"
  }
 },
 "nbformat": 4,
 "nbformat_minor": 2
}
