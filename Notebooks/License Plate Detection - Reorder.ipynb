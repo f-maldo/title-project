{
 "cells": [
  {
   "cell_type": "code",
   "execution_count": 1,
   "metadata": {},
   "outputs": [],
   "source": [
    "%matplotlib inline\n",
    "import numpy as np\n",
    "from tqdm import tqdm, tqdm_notebook\n",
    "from os import makedirs\n",
    "from os.path import exists, join\n",
    "from shutil import copyfile\n",
    "from skimage import io, transform"
   ]
  },
  {
   "cell_type": "code",
   "execution_count": 2,
   "metadata": {},
   "outputs": [],
   "source": [
    "x_train_paths = np.load(\"../Cache/LPD/final/x_train.npy\")\n",
    "x_test_paths = np.load(\"../Cache/LPD/final/x_test.npy\")\n",
    "x_validation_paths = np.load(\"../Cache/LPD/final/x_validation.npy\")\n",
    "y_train_paths = np.load(\"../Cache/LPD/final/y_train.npy\")\n",
    "y_test_paths = np.load(\"../Cache/LPD/final/y_test.npy\")\n",
    "y_validation_paths = np.load(\"../Cache/LPD/final/y_validation.npy\")"
   ]
  },
  {
   "cell_type": "code",
   "execution_count": 3,
   "metadata": {},
   "outputs": [
    {
     "name": "stdout",
     "output_type": "stream",
     "text": [
      "../UFPR-ALPR-dataset/training/track0008/track0008[21].png [119 120  26  78 740 309 290 255]\n",
      "track0008[21]\n",
      "(1080, 1920, 3)\n",
      "<class 'numpy.int64'>\n"
     ]
    }
   ],
   "source": [
    "print(x_train_paths[0], y_train_paths[0])\n",
    "print(x_train_paths[0].split(\"/\")[-1][:-4])\n",
    "im = io.imread(x_train_paths[0])\n",
    "print(im.shape)\n",
    "print(type(y_train_paths[0][0]))"
   ]
  },
  {
   "cell_type": "code",
   "execution_count": 4,
   "metadata": {},
   "outputs": [],
   "source": [
    "dim_x = 960\n",
    "dim_y = 540"
   ]
  },
  {
   "cell_type": "markdown",
   "metadata": {},
   "source": [
    "# Train"
   ]
  },
  {
   "cell_type": "code",
   "execution_count": 5,
   "metadata": {},
   "outputs": [
    {
     "data": {
      "application/vnd.jupyter.widget-view+json": {
       "model_id": "ad112da02557478e99ba738bc727aa14",
       "version_major": 2,
       "version_minor": 0
      },
      "text/plain": [
       "HBox(children=(IntProgress(value=0, max=1800), HTML(value='')))"
      ]
     },
     "metadata": {},
     "output_type": "display_data"
    },
    {
     "name": "stderr",
     "output_type": "stream",
     "text": [
      "/home/sagacius/.local/lib/python3.5/site-packages/skimage/transform/_warps.py:84: UserWarning: The default mode, 'constant', will be changed to 'reflect' in skimage 0.15.\n",
      "  warn(\"The default mode, 'constant', will be changed to 'reflect' in \"\n",
      "/home/sagacius/.local/lib/python3.5/site-packages/skimage/util/dtype.py:122: UserWarning: Possible precision loss when converting from float64 to uint8\n",
      "  .format(dtypeobj_in, dtypeobj_out))\n"
     ]
    },
    {
     "name": "stdout",
     "output_type": "stream",
     "text": [
      "\n"
     ]
    }
   ],
   "source": [
    "train_dir = \"../LPD/original/training/\"\n",
    "if not exists(train_dir):\n",
    "    makedirs(train_dir)\n",
    "xy = np.column_stack((x_train_paths, y_train_paths))\n",
    "x_train = []\n",
    "y_train = []\n",
    "for path in tqdm_notebook(xy):\n",
    "    bb = np.asarray(path[1:], dtype=int)\n",
    "    im = io.imread(path[0])\n",
    "    bb[0] = bb[0] + bb[5]\n",
    "    bb[1] = bb[1] + bb[4]\n",
    "    #print(bb)\n",
    "    #print(im.shape)\n",
    "    dw = 1. / im.shape[1]\n",
    "    dh = 1. / im.shape[0]\n",
    "    im = transform.resize(im, (dim_y, dim_x))\n",
    "    x = ((bb[1] + bb[1] + bb[3]) / 2) * dw\n",
    "    y = ((bb[0] + bb[0] + bb[2]) / 2) * dh\n",
    "    w = bb[3] * dw\n",
    "    h = bb[2] * dh\n",
    "    bb = (y, x, h, w)\n",
    "    #print(bb)\n",
    "    x1 = int((bb[1]-(bb[3]/2))*im.shape[1])\n",
    "    x2 = int((bb[1]+(bb[3]/2))*im.shape[1])\n",
    "    y1 = int((bb[0]-(bb[2]/2))*im.shape[0])\n",
    "    y2 = int((bb[0]+(bb[2]/2))*im.shape[0])\n",
    "    #io.imshow(im[y1:y2, x1:x2])\n",
    "    y_train.append(bb)\n",
    "    #print(join(train_dir, path[0].split(\"/\")[-1][:-4]) + \".jpg\")\n",
    "    io.imsave(join(train_dir, path[0].split(\"/\")[-1][:-4]) + \".jpg\", im)\n",
    "    x_train.append(join(train_dir, path[0].split(\"/\")[-1][:-4]) + \".jpg\")"
   ]
  },
  {
   "cell_type": "code",
   "execution_count": 6,
   "metadata": {},
   "outputs": [
    {
     "name": "stdout",
     "output_type": "stream",
     "text": [
      "(1800,) ../LPD/original/training/track0008[21].jpg\n",
      "(1800, 4) [0.40833333 0.46822917 0.02407407 0.040625  ]\n"
     ]
    }
   ],
   "source": [
    "x_train = np.asarray(x_train)\n",
    "y_train = np.asarray(y_train)\n",
    "print(x_train.shape, x_train[0])\n",
    "print(y_train.shape, y_train[0])"
   ]
  },
  {
   "cell_type": "markdown",
   "metadata": {},
   "source": [
    "# Test"
   ]
  },
  {
   "cell_type": "code",
   "execution_count": 7,
   "metadata": {},
   "outputs": [
    {
     "data": {
      "application/vnd.jupyter.widget-view+json": {
       "model_id": "238af998e58c4f28be0e32627955dc61",
       "version_major": 2,
       "version_minor": 0
      },
      "text/plain": [
       "HBox(children=(IntProgress(value=0, max=1800), HTML(value='')))"
      ]
     },
     "metadata": {},
     "output_type": "display_data"
    },
    {
     "name": "stderr",
     "output_type": "stream",
     "text": [
      "/home/sagacius/.local/lib/python3.5/site-packages/skimage/transform/_warps.py:84: UserWarning: The default mode, 'constant', will be changed to 'reflect' in skimage 0.15.\n",
      "  warn(\"The default mode, 'constant', will be changed to 'reflect' in \"\n",
      "/home/sagacius/.local/lib/python3.5/site-packages/skimage/util/dtype.py:122: UserWarning: Possible precision loss when converting from float64 to uint8\n",
      "  .format(dtypeobj_in, dtypeobj_out))\n"
     ]
    },
    {
     "name": "stdout",
     "output_type": "stream",
     "text": [
      "\n"
     ]
    }
   ],
   "source": [
    "test_dir = \"../LPD/original/testing/\"\n",
    "if not exists(test_dir):\n",
    "    makedirs(test_dir)\n",
    "xy = np.column_stack((x_test_paths, y_test_paths))\n",
    "x_test = []\n",
    "y_test = []\n",
    "for path in tqdm_notebook(xy):\n",
    "    bb = np.asarray(path[1:], dtype=int)\n",
    "    im = io.imread(path[0])\n",
    "    bb[0] = bb[0] + bb[5]\n",
    "    bb[1] = bb[1] + bb[4]\n",
    "    #print(bb)\n",
    "    #print(im.shape)\n",
    "    dw = 1. / im.shape[1]\n",
    "    dh = 1. / im.shape[0]\n",
    "    im = transform.resize(im, (dim_y, dim_x))\n",
    "    x = ((bb[1] + bb[1] + bb[3]) / 2) * dw\n",
    "    y = ((bb[0] + bb[0] + bb[2]) / 2) * dh\n",
    "    w = bb[3] * dw\n",
    "    h = bb[2] * dh\n",
    "    bb = (y, x, h, w)\n",
    "    #print(bb)\n",
    "    x1 = int((bb[1]-(bb[3]/2))*im.shape[1])\n",
    "    x2 = int((bb[1]+(bb[3]/2))*im.shape[1])\n",
    "    y1 = int((bb[0]-(bb[2]/2))*im.shape[0])\n",
    "    y2 = int((bb[0]+(bb[2]/2))*im.shape[0])\n",
    "    #io.imshow(im[y1:y2, x1:x2])\n",
    "    y_test.append(bb)\n",
    "    #print(join(train_dir, path[0].split(\"/\")[-1][:-4]) + \".jpg\")\n",
    "    io.imsave(join(test_dir, path[0].split(\"/\")[-1][:-4]) + \".jpg\", im)\n",
    "    x_test.append(join(test_dir, path[0].split(\"/\")[-1][:-4]) + \".jpg\")"
   ]
  },
  {
   "cell_type": "code",
   "execution_count": 8,
   "metadata": {},
   "outputs": [
    {
     "name": "stdout",
     "output_type": "stream",
     "text": [
      "(1800,) ../LPD/original/testing/track0144[28].jpg\n",
      "(1800, 4) [0.77592593 0.29635417 0.05925926 0.0875    ]\n"
     ]
    }
   ],
   "source": [
    "x_test = np.asarray(x_test)\n",
    "y_test = np.asarray(y_test)\n",
    "print(x_test.shape, x_test[0])\n",
    "print(y_test.shape, y_test[0])"
   ]
  },
  {
   "cell_type": "markdown",
   "metadata": {},
   "source": [
    "# Validation"
   ]
  },
  {
   "cell_type": "code",
   "execution_count": 9,
   "metadata": {},
   "outputs": [
    {
     "data": {
      "application/vnd.jupyter.widget-view+json": {
       "model_id": "b94810f6990d4e8395676424dc8e82c4",
       "version_major": 2,
       "version_minor": 0
      },
      "text/plain": [
       "HBox(children=(IntProgress(value=0, max=900), HTML(value='')))"
      ]
     },
     "metadata": {},
     "output_type": "display_data"
    },
    {
     "name": "stderr",
     "output_type": "stream",
     "text": [
      "/home/sagacius/.local/lib/python3.5/site-packages/skimage/transform/_warps.py:84: UserWarning: The default mode, 'constant', will be changed to 'reflect' in skimage 0.15.\n",
      "  warn(\"The default mode, 'constant', will be changed to 'reflect' in \"\n",
      "/home/sagacius/.local/lib/python3.5/site-packages/skimage/util/dtype.py:122: UserWarning: Possible precision loss when converting from float64 to uint8\n",
      "  .format(dtypeobj_in, dtypeobj_out))\n"
     ]
    },
    {
     "name": "stdout",
     "output_type": "stream",
     "text": [
      "\n"
     ]
    }
   ],
   "source": [
    "validation_dir = \"../LPD/original/validation/\"\n",
    "if not exists(validation_dir):\n",
    "    makedirs(validation_dir)\n",
    "xy = np.column_stack((x_validation_paths, y_validation_paths))\n",
    "x_validation = []\n",
    "y_validation = []\n",
    "for path in tqdm_notebook(xy):\n",
    "    bb = np.asarray(path[1:], dtype=int)\n",
    "    im = io.imread(path[0])\n",
    "    bb[0] = bb[0] + bb[5]\n",
    "    bb[1] = bb[1] + bb[4]\n",
    "    #print(bb)\n",
    "    #print(im.shape)\n",
    "    dw = 1. / im.shape[1]\n",
    "    dh = 1. / im.shape[0]\n",
    "    im = transform.resize(im, (dim_y, dim_x))\n",
    "    x = ((bb[1] + bb[1] + bb[3]) / 2) * dw\n",
    "    y = ((bb[0] + bb[0] + bb[2]) / 2) * dh\n",
    "    w = bb[3] * dw\n",
    "    h = bb[2] * dh\n",
    "    bb = (y, x, h, w)\n",
    "    #print(bb)\n",
    "    x1 = int((bb[1]-(bb[3]/2))*im.shape[1])\n",
    "    x2 = int((bb[1]+(bb[3]/2))*im.shape[1])\n",
    "    y1 = int((bb[0]-(bb[2]/2))*im.shape[0])\n",
    "    y2 = int((bb[0]+(bb[2]/2))*im.shape[0])\n",
    "    #io.imshow(im[y1:y2, x1:x2])\n",
    "    y_validation.append(bb)\n",
    "    #print(join(train_dir, path[0].split(\"/\")[-1][:-4]) + \".jpg\")\n",
    "    io.imsave(join(validation_dir, path[0].split(\"/\")[-1][:-4]) + \".jpg\", im)\n",
    "    x_validation.append(join(validation_dir, path[0].split(\"/\")[-1][:-4]) + \".jpg\")"
   ]
  },
  {
   "cell_type": "code",
   "execution_count": 10,
   "metadata": {},
   "outputs": [
    {
     "name": "stdout",
     "output_type": "stream",
     "text": [
      "(900,) ../LPD/original/validation/track0077[24].jpg\n",
      "(900, 4) [0.7875     0.27317708 0.05462963 0.0921875 ]\n"
     ]
    }
   ],
   "source": [
    "x_validation = np.asarray(x_validation)\n",
    "y_validation = np.asarray(y_validation)\n",
    "print(x_validation.shape, x_validation[0])\n",
    "print(y_validation.shape, y_validation[0])"
   ]
  },
  {
   "cell_type": "code",
   "execution_count": 11,
   "metadata": {},
   "outputs": [],
   "source": [
    "np.save(\"../Cache/LPD/original/x_train.npy\", x_train)\n",
    "np.save(\"../Cache/LPD/original/x_test.npy\", x_test)\n",
    "np.save(\"../Cache/LPD/original/x_validation.npy\", x_validation)\n",
    "np.save(\"../Cache/LPD/original/y_train.npy\", y_train)\n",
    "np.save(\"../Cache/LPD/original/y_test.npy\", y_test)\n",
    "np.save(\"../Cache/LPD/original/y_validation.npy\", y_validation)"
   ]
  },
  {
   "cell_type": "code",
   "execution_count": null,
   "metadata": {},
   "outputs": [],
   "source": []
  }
 ],
 "metadata": {
  "kernelspec": {
   "display_name": "Python 3",
   "language": "python",
   "name": "python3"
  },
  "language_info": {
   "codemirror_mode": {
    "name": "ipython",
    "version": 3
   },
   "file_extension": ".py",
   "mimetype": "text/x-python",
   "name": "python",
   "nbconvert_exporter": "python",
   "pygments_lexer": "ipython3",
   "version": "3.5.2"
  }
 },
 "nbformat": 4,
 "nbformat_minor": 2
}
