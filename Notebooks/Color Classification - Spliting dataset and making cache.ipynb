{
 "cells": [
  {
   "cell_type": "code",
   "execution_count": 1,
   "metadata": {},
   "outputs": [],
   "source": [
    "import numpy as np\n",
    "from os import walk\n",
    "from os.path import join\n",
    "from sklearn.model_selection import train_test_split"
   ]
  },
  {
   "cell_type": "code",
   "execution_count": 2,
   "metadata": {},
   "outputs": [],
   "source": [
    "data = []\n",
    "label = []\n",
    "for root, dirs, files in walk(\"../CD/\"):\n",
    "    for name in files:\n",
    "        if join(root, name).split(\"/\")[2] == \"12\":\n",
    "            continue\n",
    "        data.append(join(root, name))\n",
    "        label.append(join(root, name).split(\"/\")[2])"
   ]
  },
  {
   "cell_type": "code",
   "execution_count": 3,
   "metadata": {},
   "outputs": [],
   "source": [
    "x_train, x_validation, y_train, y_validation = train_test_split(data, label, test_size=0.2)\n",
    "x_train, x_test, y_train, y_test = train_test_split(x_train, y_train, test_size=0.125)"
   ]
  },
  {
   "cell_type": "code",
   "execution_count": 4,
   "metadata": {},
   "outputs": [
    {
     "name": "stdout",
     "output_type": "stream",
     "text": [
      "12757 1823 3646\n",
      "<class 'list'> <class 'list'>\n"
     ]
    }
   ],
   "source": [
    "print(len(x_train), len(x_test), len(x_validation))\n",
    "print(type(x_train), type(y_train))"
   ]
  },
  {
   "cell_type": "code",
   "execution_count": 5,
   "metadata": {},
   "outputs": [],
   "source": [
    "np.save(\"../Cache/CD/x_train.npy\", x_train)\n",
    "np.save(\"../Cache/CD/x_test.npy\", x_test)\n",
    "np.save(\"../Cache/CD/x_validation.npy\", x_validation)\n",
    "np.save(\"../Cache/CD/y_train.npy\", y_train)\n",
    "np.save(\"../Cache/CD/y_test.npy\", y_test)\n",
    "np.save(\"../Cache/CD/y_validation.npy\", y_validation)"
   ]
  },
  {
   "cell_type": "code",
   "execution_count": null,
   "metadata": {},
   "outputs": [],
   "source": []
  }
 ],
 "metadata": {
  "kernelspec": {
   "display_name": "Python 3",
   "language": "python",
   "name": "python3"
  },
  "language_info": {
   "codemirror_mode": {
    "name": "ipython",
    "version": 3
   },
   "file_extension": ".py",
   "mimetype": "text/x-python",
   "name": "python",
   "nbconvert_exporter": "python",
   "pygments_lexer": "ipython3",
   "version": "3.5.2"
  }
 },
 "nbformat": 4,
 "nbformat_minor": 2
}
