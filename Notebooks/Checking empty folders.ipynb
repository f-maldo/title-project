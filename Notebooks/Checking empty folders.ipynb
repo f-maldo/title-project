{
 "cells": [
  {
   "cell_type": "code",
   "execution_count": 1,
   "metadata": {},
   "outputs": [],
   "source": [
    "from os import listdir, walk, rmdir, makedirs"
   ]
  },
  {
   "cell_type": "code",
   "execution_count": 29,
   "metadata": {},
   "outputs": [],
   "source": [
    "for root, dirs, file in walk(\"../ImagesForFlow/test/\"):\n",
    "    if listdir(root) == []:\n",
    "        rmdir(root)"
   ]
  },
  {
   "cell_type": "code",
   "execution_count": 18,
   "metadata": {},
   "outputs": [],
   "source": [
    "train = []\n",
    "for root, dirs, file in walk(\"../ImagesForFlow/train/\"):\n",
    "    #print(root.split(\"/\")[-2])\n",
    "    #break\n",
    "    train.append(root.split(\"/\")[-1])"
   ]
  },
  {
   "cell_type": "code",
   "execution_count": 19,
   "metadata": {},
   "outputs": [],
   "source": [
    "test = []\n",
    "for root, dirs, file in walk(\"../ImagesForFlow/test/\"):\n",
    "    #print(root.split(\"/\")[-2])\n",
    "    #break\n",
    "    test.append(root.split(\"/\")[-1])\n",
    "validation = []\n",
    "for root, dirs, file in walk(\"../ImagesForFlow/validation/\"):\n",
    "    #print(root.split(\"/\")[-2])\n",
    "    #break\n",
    "    validation.append(root.split(\"/\")[-1])"
   ]
  },
  {
   "cell_type": "code",
   "execution_count": 20,
   "metadata": {},
   "outputs": [
    {
     "name": "stdout",
     "output_type": "stream",
     "text": [
      "1715\n"
     ]
    }
   ],
   "source": [
    "print(len(train))"
   ]
  },
  {
   "cell_type": "code",
   "execution_count": 21,
   "metadata": {},
   "outputs": [],
   "source": [
    "new_test = []\n",
    "new_validation = []\n",
    "for file in train:\n",
    "    if file not in test:\n",
    "        print(file + \" - Test\")\n",
    "        new_test.append(file)\n",
    "    if file not in validation:\n",
    "        print(file + \" - Validation\")\n",
    "        new_validation.append(file)"
   ]
  },
  {
   "cell_type": "code",
   "execution_count": 16,
   "metadata": {},
   "outputs": [
    {
     "name": "stdout",
     "output_type": "stream",
     "text": [
      "104 44\n"
     ]
    }
   ],
   "source": [
    "print(len(new_test), len(new_validation))"
   ]
  },
  {
   "cell_type": "code",
   "execution_count": 17,
   "metadata": {},
   "outputs": [],
   "source": [
    "for file in new_test:\n",
    "    makedirs(\"../ImagesForFlow/test/\" + str(file))\n",
    "for file in new_validation:\n",
    "    makedirs(\"../ImagesForFlow/validation/\" + str(file))"
   ]
  },
  {
   "cell_type": "code",
   "execution_count": null,
   "metadata": {},
   "outputs": [],
   "source": []
  }
 ],
 "metadata": {
  "kernelspec": {
   "display_name": "Python 3",
   "language": "python",
   "name": "python3"
  },
  "language_info": {
   "codemirror_mode": {
    "name": "ipython",
    "version": 3
   },
   "file_extension": ".py",
   "mimetype": "text/x-python",
   "name": "python",
   "nbconvert_exporter": "python",
   "pygments_lexer": "ipython3",
   "version": "3.5.2"
  }
 },
 "nbformat": 4,
 "nbformat_minor": 2
}
