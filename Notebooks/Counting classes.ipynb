{
 "cells": [
  {
   "cell_type": "code",
   "execution_count": 1,
   "metadata": {},
   "outputs": [],
   "source": [
    "%matplotlib inline\n",
    "import numpy as np"
   ]
  },
  {
   "cell_type": "code",
   "execution_count": 2,
   "metadata": {},
   "outputs": [],
   "source": [
    "y = np.load(\"../Cache/y_train.npy\")"
   ]
  },
  {
   "cell_type": "code",
   "execution_count": 8,
   "metadata": {},
   "outputs": [],
   "source": [
    "npy = np.asarray(y, dtype=np.int)"
   ]
  },
  {
   "cell_type": "code",
   "execution_count": 9,
   "metadata": {},
   "outputs": [
    {
     "name": "stdout",
     "output_type": "stream",
     "text": [
      "[ 97  77 100 ...,  64 132  95]\n"
     ]
    }
   ],
   "source": [
    "print(npy)"
   ]
  },
  {
   "cell_type": "code",
   "execution_count": 16,
   "metadata": {},
   "outputs": [],
   "source": [
    "hist, badges = np.histogram(npy, bins=range(1, 164))"
   ]
  },
  {
   "cell_type": "code",
   "execution_count": 17,
   "metadata": {},
   "outputs": [
    {
     "name": "stdout",
     "output_type": "stream",
     "text": [
      "[ 104   18   30  521  333  152  491   69   79   15  757   93   20  472 1257\n",
      "   11   61   55   31   43  276  210   29   32   78  301 1138 1564  194  133\n",
      "  419  147  437  164  481  648  511 1098 3882   67   40   96  291  244  839\n",
      "  122   18  859  140  557  508   16  889 1495  958  143  302  434  194  333\n",
      "  196   74   28  520   13   18  165  774 1834  503  595  274 4550  124 1936\n",
      "  423 4217 3783  141  205 3596  391  389  614  130  202  431  746  263   94\n",
      "  100  696  110  955 1296   35 3077  120   29 2014  564 2356  924   82 1568\n",
      "  132    1 1542  167  599 1714  606  175 1120  242  225  461 3011  100  448\n",
      "  108 3189  427  165  167  150  448  274   96  110 1212  628  182 1260  110\n",
      "  324  643   53  894 2601  332  745  297   52 1172  245    9  540 1501 1349\n",
      "  541 1330  462  926  210   33 2934 1897 1603 1422   10 2132]\n",
      "[  1   2   3   4   5   6   7   8   9  10  11  12  13  14  15  16  17  18\n",
      "  19  20  21  22  23  24  25  26  27  28  29  30  31  32  33  34  35  36\n",
      "  37  38  39  40  41  42  43  44  45  46  47  48  49  50  51  52  53  54\n",
      "  55  56  57  58  59  60  61  62  63  64  65  66  67  68  69  70  71  72\n",
      "  73  74  75  76  77  78  79  80  81  82  83  84  85  86  87  88  89  90\n",
      "  91  92  93  94  95  96  97  98  99 100 101 102 103 104 105 106 107 108\n",
      " 109 110 111 112 113 114 115 116 117 118 119 120 121 122 123 124 125 126\n",
      " 127 128 129 130 131 132 133 134 135 136 137 138 139 140 141 142 143 144\n",
      " 145 146 147 148 149 150 151 152 153 154 155 156 157 158 159 160 161 162\n",
      " 163]\n"
     ]
    }
   ],
   "source": [
    "print(hist)\n",
    "print(badges)"
   ]
  },
  {
   "cell_type": "code",
   "execution_count": null,
   "metadata": {},
   "outputs": [],
   "source": []
  }
 ],
 "metadata": {
  "kernelspec": {
   "display_name": "Python 3",
   "language": "python",
   "name": "python3"
  },
  "language_info": {
   "codemirror_mode": {
    "name": "ipython",
    "version": 3
   },
   "file_extension": ".py",
   "mimetype": "text/x-python",
   "name": "python",
   "nbconvert_exporter": "python",
   "pygments_lexer": "ipython3",
   "version": "3.5.2"
  }
 },
 "nbformat": 4,
 "nbformat_minor": 2
}
