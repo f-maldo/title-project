{
 "cells": [
  {
   "cell_type": "code",
   "execution_count": 1,
   "metadata": {},
   "outputs": [],
   "source": [
    "%matplotlib inline\n",
    "import numpy as np\n",
    "from os import walk\n",
    "from os.path import join\n",
    "from sklearn.model_selection import train_test_split"
   ]
  },
  {
   "cell_type": "code",
   "execution_count": 2,
   "metadata": {},
   "outputs": [],
   "source": [
    "from skimage import io"
   ]
  },
  {
   "cell_type": "code",
   "execution_count": 3,
   "metadata": {},
   "outputs": [],
   "source": [
    "F = open(\"../UFPR-ALPR-dataset/training/track0008/track0008[18].txt\")"
   ]
  },
  {
   "cell_type": "code",
   "execution_count": 4,
   "metadata": {},
   "outputs": [],
   "source": [
    "cords = F.readlines()"
   ]
  },
  {
   "cell_type": "code",
   "execution_count": 5,
   "metadata": {},
   "outputs": [
    {
     "name": "stdout",
     "output_type": "stream",
     "text": [
      "['camera: GoPro Hero4 Silver\\n', 'position_vehicle: 743 307 285 245\\n', '\\ttype: car\\n', '\\tmake: Peugeot\\n', '\\tmodel: 206\\n', '\\tyear: 2008\\n', 'plate: AQU-9177\\n', 'position_plate: 862 422 77 25\\n', '\\tchar 1: 867 430 9 14\\n', '\\tchar 2: 876 430 9 13\\n', '\\tchar 3: 886 430 8 13\\n', '\\tchar 4: 899 431 9 12\\n', '\\tchar 5: 911 431 3 13\\n', '\\tchar 6: 916 431 9 13\\n', '\\tchar 7: 925 431 9 13']\n",
      "CAR Position\n",
      "\n",
      "['position_vehicle:', '743', '307', '285', '245']\n",
      "PLATE Position\n",
      "\n",
      "['position_plate:', '862', '422', '77', '25']\n",
      "422\n",
      "[115, 119, 25, 77]\n"
     ]
    }
   ],
   "source": [
    "print(cords)\n",
    "position = cords[7][:-1]\n",
    "car_position = cords[1][:-1]\n",
    "print(\"CAR Position\\n\")\n",
    "print(car_position.split(\" \"))\n",
    "car_x = int(car_position.split(\" \")[1])\n",
    "car_y = int(car_position.split(\" \")[2])\n",
    "car_w = int(car_position.split(\" \")[3])\n",
    "car_h = int(car_position.split(\" \")[4])\n",
    "print(\"PLATE Position\\n\")\n",
    "print(position.split(\" \"))\n",
    "y = int(position.split(\" \")[2]) - car_y\n",
    "x = int(position.split(\" \")[1]) - car_x\n",
    "h = int(position.split(\" \")[4])\n",
    "w = int(position.split(\" \")[3])\n",
    "ya = list((y, x, h, w))\n",
    "print(position.split(\" \")[2])\n",
    "print(ya)"
   ]
  },
  {
   "cell_type": "code",
   "execution_count": 6,
   "metadata": {},
   "outputs": [
    {
     "data": {
      "image/png": "[encoded data removed]",
      "text/plain": [
       "<matplotlib.figure.Figure at 0x7f1270562e80>"
      ]
     },
     "metadata": {},
     "output_type": "display_data"
    }
   ],
   "source": [
    "im = io.imread(\"../UFPR-ALPR-dataset/training/track0008/track0008[18].png\")\n",
    "im = im[car_y:car_y+car_h, car_x:car_x+car_w]\n",
    "io.imshow(im[y:y+h, x:x+w]);"
   ]
  },
  {
   "cell_type": "code",
   "execution_count": 7,
   "metadata": {},
   "outputs": [
    {
     "data": {
      "image/png": "[encoded data removed]",
      "text/plain": [
       "<matplotlib.figure.Figure at 0x7f1270562cc0>"
      ]
     },
     "metadata": {},
     "output_type": "display_data"
    }
   ],
   "source": [
    "io.imshow(im[y:y+h, x:x+w]);"
   ]
  },
  {
   "cell_type": "markdown",
   "metadata": {},
   "source": [
    "## Training"
   ]
  },
  {
   "cell_type": "code",
   "execution_count": 8,
   "metadata": {},
   "outputs": [],
   "source": [
    "x = []\n",
    "y = []\n",
    "for root, dirs, files in walk(\"../UFPR-ALPR-dataset/training/\"):\n",
    "    for name in files:\n",
    "        path = str(join(root, name))\n",
    "        if path.endswith(\".png\"):\n",
    "            pathtxt = path.replace(\".png\", \".txt\")\n",
    "            F = open(pathtxt)\n",
    "            cords = F.readlines()\n",
    "            car_position = cords[1][:-1]\n",
    "            car_x = int(car_position.split(\" \")[1])\n",
    "            car_y = int(car_position.split(\" \")[2])\n",
    "            car_w = int(car_position.split(\" \")[3])\n",
    "            car_h = int(car_position.split(\" \")[4])\n",
    "            position = cords[7][:-1]\n",
    "            a = int(position.split(\" \")[2]) - car_y\n",
    "            b = int(position.split(\" \")[1]) - car_x\n",
    "            h = int(position.split(\" \")[4])\n",
    "            w = int(position.split(\" \")[3])\n",
    "            x.append(path)\n",
    "            y.append((a, b, h, w, car_x, car_y, car_w, car_h))"
   ]
  },
  {
   "cell_type": "code",
   "execution_count": 9,
   "metadata": {},
   "outputs": [
    {
     "name": "stdout",
     "output_type": "stream",
     "text": [
      "1800 1800\n"
     ]
    }
   ],
   "source": [
    "print(len(x), len(y))"
   ]
  },
  {
   "cell_type": "code",
   "execution_count": 10,
   "metadata": {},
   "outputs": [],
   "source": [
    "x_train = np.asarray(x)\n",
    "y_train = np.asarray(y)"
   ]
  },
  {
   "cell_type": "code",
   "execution_count": 11,
   "metadata": {},
   "outputs": [
    {
     "name": "stdout",
     "output_type": "stream",
     "text": [
      "../UFPR-ALPR-dataset/training/track0008/track0008[18].png [115 119  25  77 743 307 285 245]\n"
     ]
    }
   ],
   "source": [
    "print(x_train[0], y_train[0])"
   ]
  },
  {
   "cell_type": "code",
   "execution_count": 12,
   "metadata": {},
   "outputs": [],
   "source": [
    "np.save(\"../Cache/LPD/original/x_train.npy\", x_train)\n",
    "np.save(\"../Cache/LPD/original/y_train.npy\", y_train)"
   ]
  },
  {
   "cell_type": "markdown",
   "metadata": {},
   "source": [
    "## Validation"
   ]
  },
  {
   "cell_type": "code",
   "execution_count": 14,
   "metadata": {},
   "outputs": [],
   "source": [
    "x = []\n",
    "y = []\n",
    "for root, dirs, files in walk(\"../UFPR-ALPR-dataset/validation/\"):\n",
    "    for name in files:\n",
    "        path = str(join(root, name))\n",
    "        if path.endswith(\".png\"):\n",
    "            pathtxt = path.replace(\".png\", \".txt\")\n",
    "            F = open(pathtxt)\n",
    "            cords = F.readlines()\n",
    "            car_position = cords[1][:-1]\n",
    "            car_x = int(car_position.split(\" \")[1])\n",
    "            car_y = int(car_position.split(\" \")[2])\n",
    "            car_w = int(car_position.split(\" \")[3])\n",
    "            car_h = int(car_position.split(\" \")[4])\n",
    "            position = cords[7][:-1]\n",
    "            a = int(position.split(\" \")[2]) - car_y\n",
    "            b = int(position.split(\" \")[1]) - car_x\n",
    "            h = int(position.split(\" \")[4])\n",
    "            w = int(position.split(\" \")[3])\n",
    "            x.append(path)\n",
    "            y.append((a, b, h, w, car_x, car_y, car_w, car_h))\n",
    "x_validation = np.asarray(x)\n",
    "y_validation = np.asarray(y)\n",
    "np.save(\"../Cache/LPD/original/x_validation.npy\", x_validation)\n",
    "np.save(\"../Cache/LPD/original/y_validation.npy\", y_validation)"
   ]
  },
  {
   "cell_type": "markdown",
   "metadata": {},
   "source": [
    "## Test"
   ]
  },
  {
   "cell_type": "code",
   "execution_count": 16,
   "metadata": {},
   "outputs": [],
   "source": [
    "x = []\n",
    "y = []\n",
    "for root, dirs, files in walk(\"../UFPR-ALPR-dataset/testing/\"):\n",
    "    for name in files:\n",
    "        path = str(join(root, name))\n",
    "        if path.endswith(\".png\"):\n",
    "            pathtxt = path.replace(\".png\", \".txt\")\n",
    "            F = open(pathtxt)\n",
    "            cords = F.readlines()\n",
    "            car_position = cords[1][:-1]\n",
    "            car_x = int(car_position.split(\" \")[1])\n",
    "            car_y = int(car_position.split(\" \")[2])\n",
    "            car_w = int(car_position.split(\" \")[3])\n",
    "            car_h = int(car_position.split(\" \")[4])\n",
    "            position = cords[7][:-1]\n",
    "            a = int(position.split(\" \")[2]) - car_y\n",
    "            b = int(position.split(\" \")[1]) - car_x\n",
    "            h = int(position.split(\" \")[4])\n",
    "            w = int(position.split(\" \")[3])\n",
    "            x.append(path)\n",
    "            y.append((a, b, h, w, car_x, car_y, car_w, car_h))\n",
    "x_test = np.asarray(x)\n",
    "y_test = np.asarray(y)\n",
    "np.save(\"../Cache/LPD/original/x_test.npy\", x_test)\n",
    "np.save(\"../Cache/LPD/original/y_test.npy\", y_test)"
   ]
  },
  {
   "cell_type": "code",
   "execution_count": 17,
   "metadata": {},
   "outputs": [
    {
     "name": "stdout",
     "output_type": "stream",
     "text": [
      "(1800,) (900,) (1800,)\n"
     ]
    }
   ],
   "source": [
    "print(x_train.shape, x_validation.shape, x_test.shape)"
   ]
  },
  {
   "cell_type": "code",
   "execution_count": 18,
   "metadata": {},
   "outputs": [
    {
     "name": "stdout",
     "output_type": "stream",
     "text": [
      "(1800, 8) (900, 8) (1800, 8)\n"
     ]
    }
   ],
   "source": [
    "print(y_train.shape, y_validation.shape, y_test.shape)"
   ]
  },
  {
   "cell_type": "code",
   "execution_count": null,
   "metadata": {},
   "outputs": [],
   "source": []
  },
  {
   "cell_type": "code",
   "execution_count": null,
   "metadata": {},
   "outputs": [],
   "source": []
  }
 ],
 "metadata": {
  "kernelspec": {
   "display_name": "Python 3",
   "language": "python",
   "name": "python3"
  },
  "language_info": {
   "codemirror_mode": {
    "name": "ipython",
    "version": 3
   },
   "file_extension": ".py",
   "mimetype": "text/x-python",
   "name": "python",
   "nbconvert_exporter": "python",
   "pygments_lexer": "ipython3",
   "version": "3.5.2"
  }
 },
 "nbformat": 4,
 "nbformat_minor": 2
}
