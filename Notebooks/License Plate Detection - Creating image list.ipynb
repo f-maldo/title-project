{
 "cells": [
  {
   "cell_type": "code",
   "execution_count": 1,
   "metadata": {},
   "outputs": [],
   "source": [
    "from os import listdir\n",
    "from os.path import join"
   ]
  },
  {
   "cell_type": "code",
   "execution_count": 4,
   "metadata": {},
   "outputs": [],
   "source": [
    "data_dir = \"data/lpd/\""
   ]
  },
  {
   "cell_type": "markdown",
   "metadata": {},
   "source": [
    "## Training"
   ]
  },
  {
   "cell_type": "code",
   "execution_count": 5,
   "metadata": {},
   "outputs": [],
   "source": [
    "train_dir = \"../LPD2/training/\"\n",
    "file_train = open(\"/home/sagacius/Documentos/plugins/darknet/data/train.txt\", \"w\")\n",
    "for file in listdir(train_dir):\n",
    "    if file.endswith(\".jpg\"):\n",
    "        #print(data_dir + \"training/\" + file + \"\\n\")\n",
    "        file_train.write(data_dir + \"training/\" + file + \"\\n\")"
   ]
  },
  {
   "cell_type": "markdown",
   "metadata": {},
   "source": [
    "## Testing"
   ]
  },
  {
   "cell_type": "code",
   "execution_count": 6,
   "metadata": {},
   "outputs": [],
   "source": [
    "train_dir = \"../LPD2/testing/\"\n",
    "file_train = open(\"/home/sagacius/Documentos/plugins/darknet/data/test.txt\", \"w\")\n",
    "for file in listdir(train_dir):\n",
    "    if file.endswith(\".jpg\"):\n",
    "        file_train.write(data_dir + \"testing/\" + file + \"\\n\")"
   ]
  },
  {
   "cell_type": "markdown",
   "metadata": {},
   "source": [
    "## Validation"
   ]
  },
  {
   "cell_type": "code",
   "execution_count": 7,
   "metadata": {},
   "outputs": [],
   "source": [
    "train_dir = \"../LPD2/validation/\"\n",
    "file_train = open(\"/home/sagacius/Documentos/plugins/darknet/data/validation.txt\", \"w\")\n",
    "for file in listdir(train_dir):\n",
    "    if file.endswith(\".jpg\"):\n",
    "        file_train.write(data_dir + \"validation/\" + file + \"\\n\")"
   ]
  },
  {
   "cell_type": "code",
   "execution_count": null,
   "metadata": {},
   "outputs": [],
   "source": []
  }
 ],
 "metadata": {
  "kernelspec": {
   "display_name": "Python 3",
   "language": "python",
   "name": "python3"
  },
  "language_info": {
   "codemirror_mode": {
    "name": "ipython",
    "version": 3
   },
   "file_extension": ".py",
   "mimetype": "text/x-python",
   "name": "python",
   "nbconvert_exporter": "python",
   "pygments_lexer": "ipython3",
   "version": "3.5.2"
  }
 },
 "nbformat": 4,
 "nbformat_minor": 2
}
