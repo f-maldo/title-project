{
 "cells": [
  {
   "cell_type": "code",
   "execution_count": 1,
   "metadata": {},
   "outputs": [],
   "source": [
    "%matplotlib inline\n",
    "import numpy as np\n",
    "from shutil import copyfile\n",
    "from os.path import exists\n",
    "from os import makedirs\n",
    "from skimage import io"
   ]
  },
  {
   "cell_type": "code",
   "execution_count": 2,
   "metadata": {},
   "outputs": [
    {
     "name": "stdout",
     "output_type": "stream",
     "text": [
      "(20000, 2)\n"
     ]
    }
   ],
   "source": [
    "pc = np.load(\"/home/sagacius/Documentos/Universidad/title-project/Cache/CD/CD_without_relative_colours.npy\")\n",
    "print(pc.shape)"
   ]
  },
  {
   "cell_type": "code",
   "execution_count": 3,
   "metadata": {},
   "outputs": [],
   "source": [
    "def isInList(checking, colors):\n",
    "    for color in colors:\n",
    "        if color in checking:\n",
    "            return True\n",
    "        if color == checking:\n",
    "            return True\n",
    "    return False"
   ]
  },
  {
   "cell_type": "code",
   "execution_count": 4,
   "metadata": {},
   "outputs": [],
   "source": [
    "black = []\n",
    "white = []\n",
    "gray = []\n",
    "silver = []\n",
    "red = []\n",
    "blue = []\n",
    "yellow = []\n",
    "green = []\n",
    "gold = []\n",
    "brown = []\n",
    "purple = []\n",
    "other = []"
   ]
  },
  {
   "cell_type": "code",
   "execution_count": 5,
   "metadata": {},
   "outputs": [],
   "source": [
    "colors = {\"black\": [\"Black\", \"Caviar\", \"Nero\", \"Ebony\", \"Dark Graphite\", \"Charcoal\", \"Onyx\", \"Graphite \",\n",
    "                   \"Dark Granite\", \"Dark Amethyst\", \"Obsidian\", \"Graphite Luster\", \"Iridium\", \n",
    "                    \"Granite Crystal\",\"Night Armor\", \"Mocha\", \"Graphite\"],\n",
    "          \"white\": [\"White\", \"Pearl\", \"Bianco\", \"Fresh Powder\", \"Glacier\", \"Winter Frost\", \"Ceramic \",\n",
    "                   \"Platinum Ice\", \"Cream\"],\n",
    "          \"gray\": [\"Gray\", \"Grigio\", \"Guard\", \"Steel\", \"Grey\", \"Magnetic\", \"Graphite Shadow\",\n",
    "                   \"Diamond Graphite\", \"Gun\", \"Tungsten\", \"Diamond Slate\", \"Anthracite\", \"Smoke\", \n",
    "                   \"Platinum Sage\", \"Polished Metal\", \"Dark Slate\", \"Flint Mica\", \"Graphite Mica\", \"Smoky\"],\n",
    "          \"silver\": [\"Satin Metal\", \"Tungsten Clearcoat\", \"Platinum Metallic\", \"Mercury\", \"Silver\", \"Creme Brulee\", \n",
    "                     \"silver\", \"Platinum Graphite\", \"Granite Crystal Clearcoat\", \"Liquid Platinum\",\n",
    "                     \"Billet Clearcoat\", \"Iron Frost\", \"Designo Magno\", \"Satin Metal\"],\n",
    "          \"red\": [\"Red\", \"Sunset\", \"Rosso\", \"Torred Clearcoat\", \"Burgundy\", \"Velvet\", \"Go Mango!\", \"Dark Cherry\", \n",
    "                 \"Deep Ruby\", \"Claret\", \"Ruby Wine\", \"Dark Currant\", \"Hot Lava\", \"Sparkling Ruby\", \n",
    "                  \"Crimson\", \"Ooh La La Rouge Mica\", \"Tuscan Sun\", \"Midnight Garnet\", \"Maroon\", \"Garnet\", \n",
    "                  \"Ruby\", \"Lava\", \"Fire\"],\n",
    "          \"blue\": [\"Blue\", \"Sapphire\", \"Mountain Air\", \"Deep Sea\", \"Anvil Clearcoat\", \"Alpine Rain\", \n",
    "                   \"Blu \", \"Aqua\", \"Nightfall Mica\", \"Capri Sea\", \"Ice Storm\", \"Slate\", \"Teal\", \"Anvil\", \n",
    "                   \"Ocean\"],\n",
    "          \"yellow\": [\"Yellow\", \"Sand\", \"sand\", \"Light Pewter\", \"Desert Khaki\", \"Beige\", \"Pewter\", \"Alien Ii\", \n",
    "                     \"Satin Cashmere\", \"Tan\", \"Electric Spice\", \"Ampd\", \"Champagne\", \"Palladium\",\n",
    "                     \"Light Parchment\", \"Light Driftwood\", \"Umbria Twiligh \", \"Electric Beam\", \"Tectonic\",\n",
    "                    \"Platinum Dune\", \"Khaki\"],\n",
    "          \"gold\": [\"Gold\", \"Kona Coffee\", \"Bronze\", \"Java Metallic\", \"Orange\", \"Titanium\",\n",
    "                   \"Deep Espresso\", \"Majestic Plum\", \"Caribou Metallic\",\n",
    "                   \"Urban Titanium\", \"Havana\", \"Copper\", \"Cinnamon\", \"Canyon Ridge\", \n",
    "                   \"Vitamin C\"],\n",
    "          \"brown\": [\"Bronzo Siena\", \"Brown\", \"Toffee Brown\", \"Espresso Brown\",\n",
    "                   \"Brownstone\", \"Midnight Amethyst\", \"Dark Amber\", \"Mahogany\",\n",
    "                   \"Sable\", \"Pepperdust\", \"Chocolate\"],\n",
    "          \"purple\": [\"Purple\", \"Pink\", \"Violet\"],\n",
    "          \"other\": [\"N/A\", \"Other\", \"Tunstan\"],\n",
    "          \"green\": [\"Green\", \"Timberland Mica\", \"Pyrite Mica\", \"Midnight Jade\", \"Tank Clearcoat\", \n",
    "                    \"Titanium Flash Mica\", \"Guard\", \"Anvil Clear Coat\", \"Alumina Jade\", \"Ginger Ale\", \"Sea Grass\",\n",
    "                   \"Jade\", \"Lime\"]}"
   ]
  },
  {
   "cell_type": "code",
   "execution_count": 6,
   "metadata": {},
   "outputs": [],
   "source": [
    "for c in pc:\n",
    "    if isInList(c[1], colors[\"black\"]): black.append((c[0], c[1])); continue;\n",
    "    if isInList(c[1], colors[\"white\"]): white.append((c[0], c[1])); continue\n",
    "    if isInList(c[1], colors[\"red\"]): red.append((c[0], c[1])); continue\n",
    "    if isInList(c[1], colors[\"blue\"]): blue.append((c[0], c[1])); continue\n",
    "    if isInList(c[1], colors[\"yellow\"]): yellow.append((c[0], c[1])); continue\n",
    "    if isInList(c[1], colors[\"green\"]): green.append((c[0], c[1])); continue\n",
    "    if isInList(c[1], colors[\"gold\"]): gold.append((c[0], c[1])); continue\n",
    "    if isInList(c[1], colors[\"brown\"]): brown.append((c[0], c[1])); continue\n",
    "    if isInList(c[1], colors[\"purple\"]): purple.append((c[0], c[1])); continue\n",
    "    if isInList(c[1], colors[\"silver\"]): silver.append((c[0], c[1])); continue\n",
    "    if isInList(c[1], colors[\"gray\"]): gray.append((c[0], c[1])); continue\n",
    "    if isInList(c[1], colors[\"other\"]): other.append((c[0], c[1])); continue\n",
    "    if \"Metallic\" == c[1]: gray.append((c[0], c[1])); continue\n",
    "    if \"Platinum\" == c[1]: silver.append((c[0], c[1])); continue"
   ]
  },
  {
   "cell_type": "code",
   "execution_count": 7,
   "metadata": {},
   "outputs": [
    {
     "name": "stdout",
     "output_type": "stream",
     "text": [
      "In the color black there are: 5782\n",
      "In the color white there are: 4562\n",
      "In the color gray there are: 2260\n",
      "In the color silver there are: 2589\n",
      "In the color red there are: 1518\n",
      "In the color blue there are: 1357\n",
      "In the color yellow there are: 350\n",
      "In the color green there are: 167\n",
      "In the color gold there are: 381\n",
      "In the color brown there are: 105\n",
      "In the color purple there are: 14\n",
      "In the color other there are: 714\n"
     ]
    }
   ],
   "source": [
    "print(\"In the color black there are: \" + str(len(black)))\n",
    "print(\"In the color white there are: \" + str(len(white)))\n",
    "print(\"In the color gray there are: \" + str(len(gray)))\n",
    "print(\"In the color silver there are: \" + str(len(silver)))\n",
    "print(\"In the color red there are: \" + str(len(red)))\n",
    "print(\"In the color blue there are: \" + str(len(blue)))\n",
    "print(\"In the color yellow there are: \" + str(len(yellow)))\n",
    "print(\"In the color green there are: \" + str(len(green)))\n",
    "print(\"In the color gold there are: \" + str(len(gold)))\n",
    "print(\"In the color brown there are: \" + str(len(brown)))\n",
    "print(\"In the color purple there are: \" + str(len(purple)))\n",
    "print(\"In the color other there are: \" + str(len(other)))"
   ]
  },
  {
   "cell_type": "code",
   "execution_count": 15,
   "metadata": {},
   "outputs": [],
   "source": [
    "BASE_PATH = \"/home/sagacius/Documentos/Universidad/title-project/CD2/\"\n",
    "for num in range(1, 13):\n",
    "    if not exists(BASE_PATH + str(num)): makedirs(BASE_PATH + str(num))"
   ]
  },
  {
   "cell_type": "code",
   "execution_count": 16,
   "metadata": {},
   "outputs": [],
   "source": [
    "for c in black:\n",
    "    copyfile(c[0], BASE_PATH + \"1/\" + c[0].split(\"/\")[-1])\n",
    "for c in white:\n",
    "    copyfile(c[0], BASE_PATH + \"2/\" + c[0].split(\"/\")[-1])\n",
    "for c in gray:\n",
    "    copyfile(c[0], BASE_PATH + \"3/\" + c[0].split(\"/\")[-1])\n",
    "for c in silver:\n",
    "    copyfile(c[0], BASE_PATH + \"4/\" + c[0].split(\"/\")[-1])\n",
    "for c in red:\n",
    "    copyfile(c[0], BASE_PATH + \"5/\" + c[0].split(\"/\")[-1])\n",
    "for c in blue:\n",
    "    copyfile(c[0], BASE_PATH + \"6/\" + c[0].split(\"/\")[-1])\n",
    "for c in yellow:\n",
    "    copyfile(c[0], BASE_PATH + \"7/\" + c[0].split(\"/\")[-1])\n",
    "for c in green:\n",
    "    copyfile(c[0], BASE_PATH + \"8/\" + c[0].split(\"/\")[-1])\n",
    "for c in gold:\n",
    "    copyfile(c[0], BASE_PATH + \"9/\" + c[0].split(\"/\")[-1])\n",
    "for c in brown:\n",
    "    copyfile(c[0], BASE_PATH + \"10/\" + c[0].split(\"/\")[-1])\n",
    "for c in purple:\n",
    "    copyfile(c[0], BASE_PATH + \"11/\" + c[0].split(\"/\")[-1])\n",
    "for c in other:\n",
    "    copyfile(c[0], BASE_PATH + \"12/\" + c[0].split(\"/\")[-1])"
   ]
  },
  {
   "cell_type": "code",
   "execution_count": null,
   "metadata": {},
   "outputs": [],
   "source": []
  }
 ],
 "metadata": {
  "kernelspec": {
   "display_name": "Python 3",
   "language": "python",
   "name": "python3"
  },
  "language_info": {
   "codemirror_mode": {
    "name": "ipython",
    "version": 3
   },
   "file_extension": ".py",
   "mimetype": "text/x-python",
   "name": "python",
   "nbconvert_exporter": "python",
   "pygments_lexer": "ipython3",
   "version": "3.5.2"
  }
 },
 "nbformat": 4,
 "nbformat_minor": 2
}
