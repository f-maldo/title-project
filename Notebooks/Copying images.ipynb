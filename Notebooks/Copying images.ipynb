{
 "cells": [
  {
   "cell_type": "code",
   "execution_count": 1,
   "metadata": {},
   "outputs": [],
   "source": [
    "import numpy as np\n",
    "from os import walk\n",
    "from os.path import join\n",
    "from tqdm import tqdm, tqdm_notebook"
   ]
  },
  {
   "cell_type": "code",
   "execution_count": 2,
   "metadata": {},
   "outputs": [],
   "source": [
    "import os\n",
    "for num in range(1, 2005):\n",
    "    os.makedirs(\"../ImagesForFlow/train/\" + str(num))\n",
    "    os.makedirs(\"../ImagesForFlow/test/\" + str(num))\n",
    "    os.makedirs(\"../ImagesForFlow/validation/\" + str(num))\n",
    "#for num in range(1, 11):\n",
    "#    os.makedirs(\"../TestingTraining/train/\" + str(num))\n",
    "#    os.makedirs(\"../TestingTraining/test/\" + str(num))"
   ]
  },
  {
   "cell_type": "code",
   "execution_count": 9,
   "metadata": {},
   "outputs": [
    {
     "name": "stdout",
     "output_type": "stream",
     "text": [
      "../CompCars/data/image/152/410/2009/f2146abd0193e8.jpg\n",
      "f2146abd0193e8.jpg\n"
     ]
    }
   ],
   "source": [
    "x = np.load(\"../Cache/x_validation.npy\")\n",
    "y = np.load(\"../Cache/y_validation.npy\")\n",
    "print(x[0])\n",
    "print(x[0].split(\"/\")[-1])"
   ]
  },
  {
   "cell_type": "code",
   "execution_count": 10,
   "metadata": {},
   "outputs": [],
   "source": [
    "nx = np.asarray(x)\n",
    "ny = np.asarray(y)\n",
    "xy = np.column_stack((x, y))"
   ]
  },
  {
   "cell_type": "code",
   "execution_count": 11,
   "metadata": {},
   "outputs": [
    {
     "name": "stderr",
     "output_type": "stream",
     "text": [
      "100%|██████████| 27346/27346 [01:43<00:00, 263.90it/s]\n"
     ]
    }
   ],
   "source": [
    "from shutil import copyfile\n",
    "new = \"../ImagesForFlow/validation/\"\n",
    "#new = \"../TestingTraining/test/\"\n",
    "for file in tqdm(xy):\n",
    "    #print(int(file[1]))\n",
    "    #print(join(join(new, file[1]), file[0].split(\"/\")[-1]))\n",
    "    #break\n",
    "    copyfile(file[0], join(join(new, file[1]), file[0].split(\"/\")[-1]))"
   ]
  },
  {
   "cell_type": "code",
   "execution_count": null,
   "metadata": {},
   "outputs": [],
   "source": []
  }
 ],
 "metadata": {
  "kernelspec": {
   "display_name": "Python 3",
   "language": "python",
   "name": "python3"
  },
  "language_info": {
   "codemirror_mode": {
    "name": "ipython",
    "version": 3
   },
   "file_extension": ".py",
   "mimetype": "text/x-python",
   "name": "python",
   "nbconvert_exporter": "python",
   "pygments_lexer": "ipython3",
   "version": "3.5.2"
  }
 },
 "nbformat": 4,
 "nbformat_minor": 2
}
