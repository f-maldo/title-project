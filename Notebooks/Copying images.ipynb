{
 "cells": [
  {
   "cell_type": "code",
   "execution_count": 1,
   "metadata": {},
   "outputs": [],
   "source": [
    "import numpy as np\n",
    "from os import walk\n",
    "from os.path import join\n",
    "from tqdm import tqdm_notebook"
   ]
  },
  {
   "cell_type": "code",
   "execution_count": 2,
   "metadata": {},
   "outputs": [],
   "source": [
    "import os\n",
    "for num in range(1, 2005):\n",
    "    os.makedirs(\"../ImagesForFlow/train/\" + str(num))\n",
    "    os.makedirs(\"../ImagesForFlow/test/\" + str(num))\n",
    "    os.makedirs(\"../ImagesForFlow/validation/\" + str(num))\n",
    "#for num in range(1, 11):\n",
    "#    os.makedirs(\"../TestingTraining/train/\" + str(num))\n",
    "#    os.makedirs(\"../TestingTraining/test/\" + str(num))"
   ]
  },
  {
   "cell_type": "code",
   "execution_count": 10,
   "metadata": {},
   "outputs": [
    {
     "name": "stdout",
     "output_type": "stream",
     "text": [
      "../CompCars/data/image/21\\1304\\2014\\d84206ed0b1950.jpg\n",
      "d84206ed0b1950.jpg\n"
     ]
    }
   ],
   "source": [
    "x = np.load(\"../Cache/x_train.npy\")\n",
    "y = np.load(\"../Cache/y_train.npy\")\n",
    "print(x[0])\n",
    "print(x[0].split(\"\\\\\")[-1])"
   ]
  },
  {
   "cell_type": "code",
   "execution_count": 11,
   "metadata": {},
   "outputs": [],
   "source": [
    "nx = np.asarray(x)\n",
    "ny = np.asarray(y)\n",
    "xy = np.column_stack((x, y))"
   ]
  },
  {
   "cell_type": "code",
   "execution_count": 12,
   "metadata": {},
   "outputs": [
    {
     "data": {
      "application/vnd.jupyter.widget-view+json": {
       "model_id": "8ef7ee4831374aff9a61c7d3e4772767",
       "version_major": 2,
       "version_minor": 0
      },
      "text/plain": [
       "HBox(children=(IntProgress(value=0, max=95707), HTML(value='')))"
      ]
     },
     "metadata": {},
     "output_type": "display_data"
    },
    {
     "name": "stdout",
     "output_type": "stream",
     "text": [
      "\n"
     ]
    }
   ],
   "source": [
    "from shutil import copyfile\n",
    "new = \"../ImagesForFlow/train/\"\n",
    "#new = \"../TestingTraining/test/\"\n",
    "for file in tqdm_notebook(xy):\n",
    "    #print(int(file[1]))\n",
    "    #print(join(join(new, file[1]), file[0].split(\"/\")[-1]))\n",
    "    #break\n",
    "    copyfile(file[0], join(join(new, file[1]), file[0].split(\"\\\\\")[-1]))"
   ]
  },
  {
   "cell_type": "code",
   "execution_count": null,
   "metadata": {},
   "outputs": [],
   "source": []
  }
 ],
 "metadata": {
  "kernelspec": {
   "display_name": "Python 3",
   "language": "python",
   "name": "python3"
  },
  "language_info": {
   "codemirror_mode": {
    "name": "ipython",
    "version": 3
   },
   "file_extension": ".py",
   "mimetype": "text/x-python",
   "name": "python",
   "nbconvert_exporter": "python",
   "pygments_lexer": "ipython3",
   "version": "3.6.5"
  }
 },
 "nbformat": 4,
 "nbformat_minor": 2
}
