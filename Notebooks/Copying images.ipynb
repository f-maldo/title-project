{
 "cells": [
  {
   "cell_type": "code",
   "execution_count": 1,
   "metadata": {},
   "outputs": [],
   "source": [
    "import numpy as np\n",
    "from os import walk\n",
    "from os.path import join\n",
    "from sklearn.model_selection import train_test_split\n",
    "from tqdm import tqdm_notebook"
   ]
  },
  {
   "cell_type": "code",
   "execution_count": 3,
   "metadata": {},
   "outputs": [],
   "source": [
    "import os\n",
    "for num in range(1, 2005):\n",
    "    os.makedirs(\"../ImagesForFlow/train/\" + str(num))\n",
    "    os.makedirs(\"../ImagesForFlow/test/\" + str(num))\n",
    "    os.makedirs(\"../ImagesForFlow/validation/\" + str(num))\n",
    "#for num in range(1, 11):\n",
    "#    os.makedirs(\"../TestingTraining/train/\" + str(num))\n",
    "#    os.makedirs(\"../TestingTraining/test/\" + str(num))"
   ]
  },
  {
   "cell_type": "code",
   "execution_count": 12,
   "metadata": {},
   "outputs": [
    {
     "name": "stdout",
     "output_type": "stream",
     "text": [
      "../CompCars/data/image/54/194/2013/7caeb20b4f5c98.jpg\n",
      "7caeb20b4f5c98.jpg\n"
     ]
    }
   ],
   "source": [
    "x = np.load(\"../Cache/x_validation.npy\")\n",
    "y = np.load(\"../Cache/y_validation.npy\")\n",
    "print(x[0])\n",
    "print(x[0].split(\"/\")[-1])"
   ]
  },
  {
   "cell_type": "code",
   "execution_count": 13,
   "metadata": {},
   "outputs": [],
   "source": [
    "nx = np.asarray(x)\n",
    "ny = np.asarray(y)\n",
    "xy = np.column_stack((x, y))"
   ]
  },
  {
   "cell_type": "code",
   "execution_count": 14,
   "metadata": {},
   "outputs": [
    {
     "data": {
      "application/vnd.jupyter.widget-view+json": {
       "model_id": "36f01ffbd2264428a9d27e070e39aec0",
       "version_major": 2,
       "version_minor": 0
      },
      "text/html": [
       "<p>Failed to display Jupyter Widget of type <code>HBox</code>.</p>\n",
       "<p>\n",
       "  If you're reading this message in the Jupyter Notebook or JupyterLab Notebook, it may mean\n",
       "  that the widgets JavaScript is still loading. If this message persists, it\n",
       "  likely means that the widgets JavaScript library is either not installed or\n",
       "  not enabled. See the <a href=\"https://ipywidgets.readthedocs.io/en/stable/user_install.html\">Jupyter\n",
       "  Widgets Documentation</a> for setup instructions.\n",
       "</p>\n",
       "<p>\n",
       "  If you're reading this message in another frontend (for example, a static\n",
       "  rendering on GitHub or <a href=\"https://nbviewer.jupyter.org/\">NBViewer</a>),\n",
       "  it may mean that your frontend doesn't currently support widgets.\n",
       "</p>\n"
      ],
      "text/plain": [
       "HBox(children=(IntProgress(value=0, max=27346), HTML(value='')))"
      ]
     },
     "metadata": {},
     "output_type": "display_data"
    },
    {
     "name": "stdout",
     "output_type": "stream",
     "text": [
      "\n"
     ]
    }
   ],
   "source": [
    "from shutil import copyfile\n",
    "new = \"../ImagesForFlow/validation/\"\n",
    "#new = \"../TestingTraining/test/\"\n",
    "for file in tqdm_notebook(xy):\n",
    "    #print(int(file[1]))\n",
    "    #print(join(join(new, file[1]), file[0].split(\"/\")[-1]))\n",
    "    #break\n",
    "    copyfile(file[0], join(join(new, file[1]), file[0].split(\"/\")[-1]))"
   ]
  },
  {
   "cell_type": "code",
   "execution_count": null,
   "metadata": {},
   "outputs": [],
   "source": []
  }
 ],
 "metadata": {
  "kernelspec": {
   "display_name": "Python 3",
   "language": "python",
   "name": "python3"
  },
  "language_info": {
   "codemirror_mode": {
    "name": "ipython",
    "version": 3
   },
   "file_extension": ".py",
   "mimetype": "text/x-python",
   "name": "python",
   "nbconvert_exporter": "python",
   "pygments_lexer": "ipython3",
   "version": "3.5.2"
  }
 },
 "nbformat": 4,
 "nbformat_minor": 2
}
