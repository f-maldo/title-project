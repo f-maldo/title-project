{
 "cells": [
  {
   "cell_type": "code",
   "execution_count": 1,
   "metadata": {},
   "outputs": [],
   "source": [
    "import numpy as np\n",
    "from tqdm import tqdm, tqdm_notebook\n",
    "from os import makedirs\n",
    "from os.path import exists, join\n",
    "from shutil import copyfile\n",
    "from skimage import io, transform"
   ]
  },
  {
   "cell_type": "code",
   "execution_count": 2,
   "metadata": {},
   "outputs": [],
   "source": [
    "train_dir = \"../LPD2/training/\"\n",
    "test_dir = \"../LPD2/testing/\"\n",
    "validation_dir = \"../LPD2/validation/\""
   ]
  },
  {
   "cell_type": "code",
   "execution_count": 3,
   "metadata": {},
   "outputs": [],
   "source": [
    "if not exists(train_dir):\n",
    "    makedirs(train_dir)\n",
    "if not exists(test_dir):\n",
    "    makedirs(test_dir)\n",
    "if not exists(validation_dir):\n",
    "    makedirs(validation_dir)"
   ]
  },
  {
   "cell_type": "code",
   "execution_count": 4,
   "metadata": {},
   "outputs": [],
   "source": [
    "x_train_paths = np.load(\"../Cache/LicensePlateDetection/x_train.npy\")\n",
    "x_test_paths = np.load(\"../Cache/LicensePlateDetection/x_test.npy\")\n",
    "x_validation_paths = np.load(\"../Cache/LicensePlateDetection/x_validation.npy\")\n",
    "y_train_paths = np.load(\"../Cache/LicensePlateDetection/y_train.npy\")\n",
    "y_test_paths = np.load(\"../Cache/LicensePlateDetection/y_test.npy\")\n",
    "y_validation_paths = np.load(\"../Cache/LicensePlateDetection/y_validation.npy\")"
   ]
  },
  {
   "cell_type": "code",
   "execution_count": 5,
   "metadata": {},
   "outputs": [
    {
     "name": "stdout",
     "output_type": "stream",
     "text": [
      "../UFPR-ALPR-dataset/training/track0008/track0008[18].png [422 862  25  77]\n",
      "track0008[18]\n",
      "../LPD2/training/track0008[18].jpg\n",
      "(1080, 1920, 3)\n",
      "<class 'numpy.int64'>\n"
     ]
    }
   ],
   "source": [
    "print(x_train_paths[0], y_train_paths[0])\n",
    "print(x_train_paths[0].split(\"/\")[-1][:-4])\n",
    "print(join(train_dir, x_train_paths[0].split(\"/\")[-1][:-4]) + \".jpg\")\n",
    "im = io.imread(x_train_paths[0])\n",
    "print(im.shape)\n",
    "print(type(y_train_paths[0][0]))"
   ]
  },
  {
   "cell_type": "code",
   "execution_count": 6,
   "metadata": {},
   "outputs": [],
   "source": [
    "#with open(\"test.txt\", \"w\") as file:\n",
    "#    file.write(\"Text\")"
   ]
  },
  {
   "cell_type": "markdown",
   "metadata": {},
   "source": [
    "# Training"
   ]
  },
  {
   "cell_type": "code",
   "execution_count": 7,
   "metadata": {},
   "outputs": [
    {
     "data": {
      "application/vnd.jupyter.widget-view+json": {
       "model_id": "72a5d958e85f4d048d12cf93f076bbc3",
       "version_major": 2,
       "version_minor": 0
      },
      "text/html": [
       "<p>Failed to display Jupyter Widget of type <code>HBox</code>.</p>\n",
       "<p>\n",
       "  If you're reading this message in the Jupyter Notebook or JupyterLab Notebook, it may mean\n",
       "  that the widgets JavaScript is still loading. If this message persists, it\n",
       "  likely means that the widgets JavaScript library is either not installed or\n",
       "  not enabled. See the <a href=\"https://ipywidgets.readthedocs.io/en/stable/user_install.html\">Jupyter\n",
       "  Widgets Documentation</a> for setup instructions.\n",
       "</p>\n",
       "<p>\n",
       "  If you're reading this message in another frontend (for example, a static\n",
       "  rendering on GitHub or <a href=\"https://nbviewer.jupyter.org/\">NBViewer</a>),\n",
       "  it may mean that your frontend doesn't currently support widgets.\n",
       "</p>\n"
      ],
      "text/plain": [
       "HBox(children=(IntProgress(value=0, max=1800), HTML(value='')))"
      ]
     },
     "metadata": {},
     "output_type": "display_data"
    },
    {
     "name": "stderr",
     "output_type": "stream",
     "text": [
      "/home/sagacius/.local/lib/python3.5/site-packages/skimage/transform/_warps.py:84: UserWarning: The default mode, 'constant', will be changed to 'reflect' in skimage 0.15.\n",
      "  warn(\"The default mode, 'constant', will be changed to 'reflect' in \"\n",
      "/home/sagacius/.local/lib/python3.5/site-packages/skimage/util/dtype.py:122: UserWarning: Possible precision loss when converting from float64 to uint8\n",
      "  .format(dtypeobj_in, dtypeobj_out))\n"
     ]
    },
    {
     "name": "stdout",
     "output_type": "stream",
     "text": [
      "\n"
     ]
    }
   ],
   "source": [
    "x = np.asarray(x_train_paths)\n",
    "y = np.asarray(y_train_paths)\n",
    "xy = np.column_stack((x, y))\n",
    "for path in tqdm_notebook(xy):\n",
    "    im = io.imread(path[0])\n",
    "    im = transform.resize(im, (416, 416))\n",
    "    bb = np.asarray(path[1:], dtype=int)\n",
    "    dw = 1. / im.shape[1]\n",
    "    dh = 1. / im.shape[0]\n",
    "    x = (bb[1] + bb[1] + bb[3]) / 2.0\n",
    "    y = (bb[0] + bb[0] + bb[2]) / 2.0\n",
    "    x = x * dw\n",
    "    y = y * dh\n",
    "    w = bb[3] * dw\n",
    "    h = bb[2] * dh\n",
    "    bb = (x, y, w, h)\n",
    "    with open(join(train_dir, path[0].split(\"/\")[-1][:-4]) + \".txt\", \"w\") as file:\n",
    "        file.write(\"0\" + \" \" + \" \".join([str(a) for a in bb]) + '\\n')\n",
    "    io.imsave(join(train_dir, path[0].split(\"/\")[-1][:-4]) + \".jpg\", im)"
   ]
  },
  {
   "cell_type": "markdown",
   "metadata": {},
   "source": [
    "# Testing"
   ]
  },
  {
   "cell_type": "code",
   "execution_count": 8,
   "metadata": {},
   "outputs": [
    {
     "data": {
      "application/vnd.jupyter.widget-view+json": {
       "model_id": "46161338c66f4c209da37fba2256080f",
       "version_major": 2,
       "version_minor": 0
      },
      "text/html": [
       "<p>Failed to display Jupyter Widget of type <code>HBox</code>.</p>\n",
       "<p>\n",
       "  If you're reading this message in the Jupyter Notebook or JupyterLab Notebook, it may mean\n",
       "  that the widgets JavaScript is still loading. If this message persists, it\n",
       "  likely means that the widgets JavaScript library is either not installed or\n",
       "  not enabled. See the <a href=\"https://ipywidgets.readthedocs.io/en/stable/user_install.html\">Jupyter\n",
       "  Widgets Documentation</a> for setup instructions.\n",
       "</p>\n",
       "<p>\n",
       "  If you're reading this message in another frontend (for example, a static\n",
       "  rendering on GitHub or <a href=\"https://nbviewer.jupyter.org/\">NBViewer</a>),\n",
       "  it may mean that your frontend doesn't currently support widgets.\n",
       "</p>\n"
      ],
      "text/plain": [
       "HBox(children=(IntProgress(value=0, max=1800), HTML(value='')))"
      ]
     },
     "metadata": {},
     "output_type": "display_data"
    },
    {
     "name": "stderr",
     "output_type": "stream",
     "text": [
      "/home/sagacius/.local/lib/python3.5/site-packages/skimage/transform/_warps.py:84: UserWarning: The default mode, 'constant', will be changed to 'reflect' in skimage 0.15.\n",
      "  warn(\"The default mode, 'constant', will be changed to 'reflect' in \"\n",
      "/home/sagacius/.local/lib/python3.5/site-packages/skimage/util/dtype.py:122: UserWarning: Possible precision loss when converting from float64 to uint8\n",
      "  .format(dtypeobj_in, dtypeobj_out))\n"
     ]
    },
    {
     "name": "stdout",
     "output_type": "stream",
     "text": [
      "\n"
     ]
    }
   ],
   "source": [
    "x = np.asarray(x_test_paths)\n",
    "y = np.asarray(y_test_paths)\n",
    "xy = np.column_stack((x, y))\n",
    "for path in tqdm_notebook(xy):\n",
    "    im = io.imread(path[0])\n",
    "    im = transform.resize(im, (416, 416))\n",
    "    bb = np.asarray(path[1:], dtype=int)\n",
    "    dw = 1. / im.shape[1]\n",
    "    dh = 1. / im.shape[0]\n",
    "    x = (bb[1] + bb[1] + bb[3]) / 2.0\n",
    "    y = (bb[0] + bb[0] + bb[2]) / 2.0\n",
    "    x = x * dw\n",
    "    y = y * dh\n",
    "    w = bb[3] * dw\n",
    "    h = bb[2] * dh\n",
    "    bb = (x, y, w, h)\n",
    "    with open(join(test_dir, path[0].split(\"/\")[-1][:-4]) + \".txt\", \"w\") as file:\n",
    "        file.write(\"0\" + \" \" + \" \".join([str(a) for a in bb]) + '\\n')\n",
    "    io.imsave(join(test_dir, path[0].split(\"/\")[-1][:-4]) + \".jpg\", im)"
   ]
  },
  {
   "cell_type": "markdown",
   "metadata": {},
   "source": [
    "# Validation"
   ]
  },
  {
   "cell_type": "code",
   "execution_count": 9,
   "metadata": {},
   "outputs": [
    {
     "data": {
      "application/vnd.jupyter.widget-view+json": {
       "model_id": "1a51070c86d5422f8dd8c5ae27d09aa9",
       "version_major": 2,
       "version_minor": 0
      },
      "text/html": [
       "<p>Failed to display Jupyter Widget of type <code>HBox</code>.</p>\n",
       "<p>\n",
       "  If you're reading this message in the Jupyter Notebook or JupyterLab Notebook, it may mean\n",
       "  that the widgets JavaScript is still loading. If this message persists, it\n",
       "  likely means that the widgets JavaScript library is either not installed or\n",
       "  not enabled. See the <a href=\"https://ipywidgets.readthedocs.io/en/stable/user_install.html\">Jupyter\n",
       "  Widgets Documentation</a> for setup instructions.\n",
       "</p>\n",
       "<p>\n",
       "  If you're reading this message in another frontend (for example, a static\n",
       "  rendering on GitHub or <a href=\"https://nbviewer.jupyter.org/\">NBViewer</a>),\n",
       "  it may mean that your frontend doesn't currently support widgets.\n",
       "</p>\n"
      ],
      "text/plain": [
       "HBox(children=(IntProgress(value=0, max=900), HTML(value='')))"
      ]
     },
     "metadata": {},
     "output_type": "display_data"
    },
    {
     "name": "stderr",
     "output_type": "stream",
     "text": [
      "/home/sagacius/.local/lib/python3.5/site-packages/skimage/transform/_warps.py:84: UserWarning: The default mode, 'constant', will be changed to 'reflect' in skimage 0.15.\n",
      "  warn(\"The default mode, 'constant', will be changed to 'reflect' in \"\n",
      "/home/sagacius/.local/lib/python3.5/site-packages/skimage/util/dtype.py:122: UserWarning: Possible precision loss when converting from float64 to uint8\n",
      "  .format(dtypeobj_in, dtypeobj_out))\n"
     ]
    },
    {
     "name": "stdout",
     "output_type": "stream",
     "text": [
      "\n"
     ]
    }
   ],
   "source": [
    "x = np.asarray(x_validation_paths)\n",
    "y = np.asarray(y_validation_paths)\n",
    "xy = np.column_stack((x, y))\n",
    "for path in tqdm_notebook(xy):\n",
    "    im = io.imread(path[0])\n",
    "    im = transform.resize(im, (416, 416))\n",
    "    bb = np.asarray(path[1:], dtype=int)\n",
    "    dw = 1. / im.shape[1]\n",
    "    dh = 1. / im.shape[0]\n",
    "    x = (bb[1] + bb[1] + bb[3]) / 2.0\n",
    "    y = (bb[0] + bb[0] + bb[2]) / 2.0\n",
    "    x = x * dw\n",
    "    y = y * dh\n",
    "    w = bb[3] * dw\n",
    "    h = bb[2] * dh\n",
    "    bb = (x, y, w, h)\n",
    "    with open(join(validation_dir, path[0].split(\"/\")[-1][:-4]) + \".txt\", \"w\") as file:\n",
    "        file.write(\"0\" + \" \" + \" \".join([str(a) for a in bb]) + '\\n')\n",
    "    io.imsave(join(validation_dir, path[0].split(\"/\")[-1][:-4]) + \".jpg\", im)"
   ]
  },
  {
   "cell_type": "code",
   "execution_count": null,
   "metadata": {},
   "outputs": [],
   "source": []
  }
 ],
 "metadata": {
  "kernelspec": {
   "display_name": "Python 3",
   "language": "python",
   "name": "python3"
  },
  "language_info": {
   "codemirror_mode": {
    "name": "ipython",
    "version": 3
   },
   "file_extension": ".py",
   "mimetype": "text/x-python",
   "name": "python",
   "nbconvert_exporter": "python",
   "pygments_lexer": "ipython3",
   "version": "3.5.2"
  }
 },
 "nbformat": 4,
 "nbformat_minor": 2
}
